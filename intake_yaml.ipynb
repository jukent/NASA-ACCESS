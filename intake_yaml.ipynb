{
 "cells": [
  {
   "cell_type": "code",
   "execution_count": 1,
   "metadata": {},
   "outputs": [
    {
     "data": {
      "text/plain": "'0.3.0.post58'"
     },
     "execution_count": 1,
     "metadata": {},
     "output_type": "execute_result"
    }
   ],
   "source": [
    "import intake\n",
    "import satstac\n",
    "import yaml\n",
    "import inspect\n",
    "import intake_xarray\n",
    "import intake_stac\n",
    "intake_stac.__version__"
   ]
  },
  {
   "cell_type": "markdown",
   "metadata": {},
   "source": [
    "# Load an Intake Catalog, Grab a Single Asset"
   ]
  },
  {
   "cell_type": "code",
   "execution_count": 2,
   "metadata": {},
   "outputs": [
    {
     "name": "stdout",
     "output_type": "stream",
     "text": [
      "['extensions-collection', 'sentinel-2', 'CS3-20160503_132131_08']\n",
      "['proj-example']\n",
      "['B1', 'B8']\n"
     ]
    }
   ],
   "source": [
    "url = 'https://raw.githubusercontent.com/radiantearth/stac-spec/master/examples/catalog.json'\n",
    "stac_cat = intake.open_stac_catalog(url)\n",
    "\n",
    "l1 = stac_cat\n",
    "l2 = stac_cat['extensions-collection']\n",
    "l3 = stac_cat['extensions-collection']['proj-example']\n",
    "\n",
    "print(list(l1))\n",
    "print(list(l2))\n",
    "print(list(l3))"
   ]
  },
  {
   "cell_type": "code",
   "execution_count": 3,
   "metadata": {},
   "outputs": [],
   "source": [
    "b1 = stac_cat['extensions-collection']['proj-example']['B1']\n",
    "b8 = stac_cat['extensions-collection']['proj-example']['B8']\n",
    "\n",
    "#print(type(b1))\n",
    "#print(b1)"
   ]
  },
  {
   "cell_type": "markdown",
   "metadata": {},
   "source": [
    "# Serialize as a .YAML file"
   ]
  },
  {
   "cell_type": "markdown",
   "metadata": {},
   "source": [
    "[Intake _yaml code](https://github.com/intake/intake/blob/471488801bfa338dbfd91f9851b27580f4f3c3bb/intake/source/base.py#L242-L265)\n",
    "\n",
    "``` python\n",
    "def _yaml(self):\n",
    "    import inspect\n",
    "    kwargs = self._captured_init_kwargs.copy()\n",
    "    meta = kwargs.pop('metadata', self.metadata) or {}\n",
    "    kwargs.update(dict(zip(inspect.signature(self.__init__).parameters,\n",
    "                       self._captured_init_args)))\n",
    "    data = {\n",
    "        'sources':\n",
    "            {self.name: {\n",
    "                'driver': self.classname,\n",
    "                'description': self.description or \"\",\n",
    "                'metadata': meta,\n",
    "                'args': kwargs\n",
    "            }}}\n",
    "    return data\n",
    "\n",
    "def yaml(self):\n",
    "    \"\"\"Return YAML representation of this data-source\n",
    "    The output may be roughly appropriate for inclusion in a YAML\n",
    "    catalog. This is a best-effort implementation\n",
    "    \"\"\"\n",
    "    data = self._yaml()\n",
    "    return yaml.dump(data, default_flow_style=False)\n",
    "```"
   ]
  },
  {
   "cell_type": "code",
   "execution_count": null,
   "metadata": {},
   "outputs": [],
   "source": [
    "b1data = b1._yaml() # For datasources the existing yaml implimentation works.\n",
    "b1data['metadata'] = {'version':1}\n",
    "\n",
    "## Confirm that I can save and load this yaml\n",
    "with open('b1.yaml', 'w') as f:\n",
    "    f.write(yaml.dump(b1data))\n",
    "\n",
    "b1cat = intake.open_catalog('b1.yaml')\n",
    "#list(b1cat)\n",
    "#b1cat['stac_asset'] #Works!"
   ]
  },
  {
   "cell_type": "code",
   "execution_count": null,
   "metadata": {},
   "outputs": [],
   "source": [
    "b8data = b8._yaml() # For datasources the existing yaml implimentation works.\n",
    "b8data['metadata'] = {'version':1}\n",
    "\n",
    "## Confirm that I can save and load this yaml\n",
    "with open('b8.yaml', 'w') as f:\n",
    "    f.write(yaml.dump(b8data))\n",
    "\n",
    "b8cat = intake.open_catalog('b8.yaml')\n",
    "#list(b8cat)\n",
    "#b8cat['stac_asset'] #Works!"
   ]
  },
  {
   "cell_type": "code",
   "execution_count": 58,
   "metadata": {},
   "outputs": [
    {
     "data": {
      "text/plain": "['B1', 'B8']"
     },
     "execution_count": 58,
     "metadata": {},
     "output_type": "execute_result"
    }
   ],
   "source": [
    "## Try to get both B1 and B8 in same YAML in an automated way\n",
    "\n",
    "l4data = {'metadata':{'version':1}, 'sources':{}}\n",
    "for key, source in l3.items():\n",
    "    l4data['sources'][key] = source._yaml()['sources']['stac_asset']\n",
    "\n",
    "with open('l4.yaml', 'w') as f:\n",
    "    f.write(yaml.dump(l4data))\n",
    "\n",
    "l4catalog = intake.open_catalog('l4.yaml') #Validation Error can't find `driver`\n",
    "#list(l4mancat)\n",
    "#l4mancat['B1']"
   ]
  },
  {
   "cell_type": "code",
   "execution_count": null,
   "metadata": {},
   "outputs": [],
   "source": [
    "## Go up one level to `stac_cat['extensions-collection']['proj-example']` \n",
    "#print(l3.yaml()) # Contains the problematic typing `&id001 !!python/object:pystac.item.Item` throughout\n",
    "#print(l3.serialize()) # Contains the problematic typing `&id001 !!python/object:pystac.item.Item` throughout"
   ]
  },
  {
   "cell_type": "code",
   "execution_count": 73,
   "metadata": {},
   "outputs": [
    {
     "ename": "ValueError",
     "evalue": "Expected <class 'pystac.item.Item'> instance, got: <class 'dict'>",
     "output_type": "error",
     "traceback": [
      "\u001b[0;31m---------------------------------------------------------------------------\u001b[0m",
      "\u001b[0;31mValueError\u001b[0m                                Traceback (most recent call last)",
      "\u001b[0;32m/var/folders/dd/_xm_pbpd3flgbvbnt7qhd70snnbpj_/T/ipykernel_33628/3269178410.py\u001b[0m in \u001b[0;36m<module>\u001b[0;34m\u001b[0m\n\u001b[1;32m      2\u001b[0m \u001b[0ml3mancat\u001b[0m \u001b[0;34m=\u001b[0m \u001b[0mintake\u001b[0m\u001b[0;34m.\u001b[0m\u001b[0mopen_catalog\u001b[0m\u001b[0;34m(\u001b[0m\u001b[0;34m'l3man.yaml'\u001b[0m\u001b[0;34m)\u001b[0m\u001b[0;34m\u001b[0m\u001b[0;34m\u001b[0m\u001b[0m\n\u001b[1;32m      3\u001b[0m \u001b[0mlist\u001b[0m\u001b[0;34m(\u001b[0m\u001b[0ml3mancat\u001b[0m\u001b[0;34m)\u001b[0m\u001b[0;34m\u001b[0m\u001b[0;34m\u001b[0m\u001b[0m\n\u001b[0;32m----> 4\u001b[0;31m \u001b[0ml3mancat\u001b[0m\u001b[0;34m[\u001b[0m\u001b[0;34m'proj-example'\u001b[0m\u001b[0;34m]\u001b[0m\u001b[0;34m\u001b[0m\u001b[0;34m\u001b[0m\u001b[0m\n\u001b[0m",
      "\u001b[0;32m~/miniconda3/envs/xstac_test/lib/python3.9/site-packages/intake/catalog/base.py\u001b[0m in \u001b[0;36m__getitem__\u001b[0;34m(self, key)\u001b[0m\n\u001b[1;32m    391\u001b[0m             \u001b[0me\u001b[0m\u001b[0;34m.\u001b[0m\u001b[0m_pmode\u001b[0m \u001b[0;34m=\u001b[0m \u001b[0mself\u001b[0m\u001b[0;34m.\u001b[0m\u001b[0mpmode\u001b[0m\u001b[0;34m\u001b[0m\u001b[0;34m\u001b[0m\u001b[0m\n\u001b[1;32m    392\u001b[0m             \u001b[0;32mif\u001b[0m \u001b[0me\u001b[0m\u001b[0;34m.\u001b[0m\u001b[0mcontainer\u001b[0m \u001b[0;34m==\u001b[0m \u001b[0;34m'catalog'\u001b[0m\u001b[0;34m:\u001b[0m\u001b[0;34m\u001b[0m\u001b[0;34m\u001b[0m\u001b[0m\n\u001b[0;32m--> 393\u001b[0;31m                 \u001b[0;32mreturn\u001b[0m \u001b[0me\u001b[0m\u001b[0;34m(\u001b[0m\u001b[0mname\u001b[0m\u001b[0;34m=\u001b[0m\u001b[0mkey\u001b[0m\u001b[0;34m)\u001b[0m\u001b[0;34m\u001b[0m\u001b[0;34m\u001b[0m\u001b[0m\n\u001b[0m\u001b[1;32m    394\u001b[0m             \u001b[0;32mreturn\u001b[0m \u001b[0me\u001b[0m\u001b[0;34m(\u001b[0m\u001b[0;34m)\u001b[0m\u001b[0;34m\u001b[0m\u001b[0;34m\u001b[0m\u001b[0m\n\u001b[1;32m    395\u001b[0m         \u001b[0;32mif\u001b[0m \u001b[0misinstance\u001b[0m\u001b[0;34m(\u001b[0m\u001b[0mkey\u001b[0m\u001b[0;34m,\u001b[0m \u001b[0mstr\u001b[0m\u001b[0;34m)\u001b[0m \u001b[0;32mand\u001b[0m \u001b[0;34m'.'\u001b[0m \u001b[0;32min\u001b[0m \u001b[0mkey\u001b[0m\u001b[0;34m:\u001b[0m\u001b[0;34m\u001b[0m\u001b[0;34m\u001b[0m\u001b[0m\n",
      "\u001b[0;32m~/miniconda3/envs/xstac_test/lib/python3.9/site-packages/intake/catalog/entry.py\u001b[0m in \u001b[0;36m__call__\u001b[0;34m(self, persist, **kwargs)\u001b[0m\n\u001b[1;32m     75\u001b[0m             \u001b[0;32mraise\u001b[0m \u001b[0mValueError\u001b[0m\u001b[0;34m(\u001b[0m\u001b[0;34m'Persist value (%s) not understood'\u001b[0m \u001b[0;34m%\u001b[0m \u001b[0mpersist\u001b[0m\u001b[0;34m)\u001b[0m\u001b[0;34m\u001b[0m\u001b[0;34m\u001b[0m\u001b[0m\n\u001b[1;32m     76\u001b[0m         \u001b[0mpersist\u001b[0m \u001b[0;34m=\u001b[0m \u001b[0mpersist\u001b[0m \u001b[0;32mor\u001b[0m \u001b[0mself\u001b[0m\u001b[0;34m.\u001b[0m\u001b[0m_pmode\u001b[0m\u001b[0;34m\u001b[0m\u001b[0;34m\u001b[0m\u001b[0m\n\u001b[0;32m---> 77\u001b[0;31m         \u001b[0ms\u001b[0m \u001b[0;34m=\u001b[0m \u001b[0mself\u001b[0m\u001b[0;34m.\u001b[0m\u001b[0mget\u001b[0m\u001b[0;34m(\u001b[0m\u001b[0;34m**\u001b[0m\u001b[0mkwargs\u001b[0m\u001b[0;34m)\u001b[0m\u001b[0;34m\u001b[0m\u001b[0;34m\u001b[0m\u001b[0m\n\u001b[0m\u001b[1;32m     78\u001b[0m         \u001b[0;32mif\u001b[0m \u001b[0mpersist\u001b[0m \u001b[0;34m!=\u001b[0m \u001b[0;34m'never'\u001b[0m \u001b[0;32mand\u001b[0m \u001b[0misinstance\u001b[0m\u001b[0;34m(\u001b[0m\u001b[0ms\u001b[0m\u001b[0;34m,\u001b[0m \u001b[0mPersistMixin\u001b[0m\u001b[0;34m)\u001b[0m \u001b[0;32mand\u001b[0m \u001b[0ms\u001b[0m\u001b[0;34m.\u001b[0m\u001b[0mhas_been_persisted\u001b[0m\u001b[0;34m:\u001b[0m\u001b[0;34m\u001b[0m\u001b[0;34m\u001b[0m\u001b[0m\n\u001b[1;32m     79\u001b[0m             \u001b[0;32mfrom\u001b[0m \u001b[0;34m.\u001b[0m\u001b[0;34m.\u001b[0m\u001b[0mcontainer\u001b[0m\u001b[0;34m.\u001b[0m\u001b[0mpersist\u001b[0m \u001b[0;32mimport\u001b[0m \u001b[0mstore\u001b[0m\u001b[0;34m\u001b[0m\u001b[0;34m\u001b[0m\u001b[0m\n",
      "\u001b[0;32m~/miniconda3/envs/xstac_test/lib/python3.9/site-packages/intake/catalog/local.py\u001b[0m in \u001b[0;36mget\u001b[0;34m(self, **user_parameters)\u001b[0m\n\u001b[1;32m    283\u001b[0m \u001b[0;34m\u001b[0m\u001b[0m\n\u001b[1;32m    284\u001b[0m         \u001b[0mplugin\u001b[0m\u001b[0;34m,\u001b[0m \u001b[0mopen_args\u001b[0m \u001b[0;34m=\u001b[0m \u001b[0mself\u001b[0m\u001b[0;34m.\u001b[0m\u001b[0m_create_open_args\u001b[0m\u001b[0;34m(\u001b[0m\u001b[0muser_parameters\u001b[0m\u001b[0;34m)\u001b[0m\u001b[0;34m\u001b[0m\u001b[0;34m\u001b[0m\u001b[0m\n\u001b[0;32m--> 285\u001b[0;31m         \u001b[0mdata_source\u001b[0m \u001b[0;34m=\u001b[0m \u001b[0mplugin\u001b[0m\u001b[0;34m(\u001b[0m\u001b[0;34m**\u001b[0m\u001b[0mopen_args\u001b[0m\u001b[0;34m)\u001b[0m\u001b[0;34m\u001b[0m\u001b[0;34m\u001b[0m\u001b[0m\n\u001b[0m\u001b[1;32m    286\u001b[0m         \u001b[0mdata_source\u001b[0m\u001b[0;34m.\u001b[0m\u001b[0mcatalog_object\u001b[0m \u001b[0;34m=\u001b[0m \u001b[0mself\u001b[0m\u001b[0;34m.\u001b[0m\u001b[0m_catalog\u001b[0m\u001b[0;34m\u001b[0m\u001b[0;34m\u001b[0m\u001b[0m\n\u001b[1;32m    287\u001b[0m         \u001b[0mdata_source\u001b[0m\u001b[0;34m.\u001b[0m\u001b[0mname\u001b[0m \u001b[0;34m=\u001b[0m \u001b[0mself\u001b[0m\u001b[0;34m.\u001b[0m\u001b[0mname\u001b[0m\u001b[0;34m\u001b[0m\u001b[0;34m\u001b[0m\u001b[0m\n",
      "\u001b[0;32m~/miniconda3/envs/xstac_test/lib/python3.9/site-packages/intake_stac/catalog.py\u001b[0m in \u001b[0;36m__init__\u001b[0;34m(self, stac_obj, **kwargs)\u001b[0m\n\u001b[1;32m     64\u001b[0m             \u001b[0mself\u001b[0m\u001b[0;34m.\u001b[0m\u001b[0m_stac_obj\u001b[0m \u001b[0;34m=\u001b[0m \u001b[0mself\u001b[0m\u001b[0;34m.\u001b[0m\u001b[0m_stac_cls\u001b[0m\u001b[0;34m.\u001b[0m\u001b[0mfrom_file\u001b[0m\u001b[0;34m(\u001b[0m\u001b[0mstac_obj\u001b[0m\u001b[0;34m)\u001b[0m\u001b[0;34m\u001b[0m\u001b[0;34m\u001b[0m\u001b[0m\n\u001b[1;32m     65\u001b[0m         \u001b[0;32melse\u001b[0m\u001b[0;34m:\u001b[0m\u001b[0;34m\u001b[0m\u001b[0;34m\u001b[0m\u001b[0m\n\u001b[0;32m---> 66\u001b[0;31m             \u001b[0;32mraise\u001b[0m \u001b[0mValueError\u001b[0m\u001b[0;34m(\u001b[0m\u001b[0;34m'Expected %s instance, got: %s'\u001b[0m \u001b[0;34m%\u001b[0m \u001b[0;34m(\u001b[0m\u001b[0mself\u001b[0m\u001b[0;34m.\u001b[0m\u001b[0m_stac_cls\u001b[0m\u001b[0;34m,\u001b[0m \u001b[0mtype\u001b[0m\u001b[0;34m(\u001b[0m\u001b[0mstac_obj\u001b[0m\u001b[0;34m)\u001b[0m\u001b[0;34m)\u001b[0m\u001b[0;34m)\u001b[0m\u001b[0;34m\u001b[0m\u001b[0;34m\u001b[0m\u001b[0m\n\u001b[0m\u001b[1;32m     67\u001b[0m \u001b[0;34m\u001b[0m\u001b[0m\n\u001b[1;32m     68\u001b[0m         \u001b[0mmetadata\u001b[0m \u001b[0;34m=\u001b[0m \u001b[0mself\u001b[0m\u001b[0;34m.\u001b[0m\u001b[0m_get_metadata\u001b[0m\u001b[0;34m(\u001b[0m\u001b[0;34m**\u001b[0m\u001b[0mkwargs\u001b[0m\u001b[0;34m.\u001b[0m\u001b[0mpop\u001b[0m\u001b[0;34m(\u001b[0m\u001b[0;34m'metadata'\u001b[0m\u001b[0;34m,\u001b[0m \u001b[0;34m{\u001b[0m\u001b[0;34m}\u001b[0m\u001b[0;34m)\u001b[0m\u001b[0;34m)\u001b[0m\u001b[0;34m\u001b[0m\u001b[0;34m\u001b[0m\u001b[0m\n",
      "\u001b[0;31mValueError\u001b[0m: Expected <class 'pystac.item.Item'> instance, got: <class 'dict'>"
     ]
    }
   ],
   "source": [
    "## Load the manually edited file to include `proj-example`\n",
    "l3mancat = intake.open_catalog('l3man.yaml')\n",
    "list(l3mancat)\n",
    "l3mancat['proj-example']"
   ]
  },
  {
   "cell_type": "code",
   "execution_count": null,
   "metadata": {},
   "outputs": [],
   "source": [
    "kwargs = l3._captured_init_kwargs.copy()\n",
    "meta = kwargs.pop('metadata', l3.metadata) or {}\n",
    "#stac_obj = kwargs.pop('stac_obj') # Remove this arg that maps to the problematic typing and see if works\n",
    "kwargs.update(dict(zip(inspect.signature(l3.__init__).parameters,\n",
    "                l3._captured_init_args)))\n",
    "\n",
    "l3data = {\n",
    "    'driver': l3.classname,\n",
    "    'description': l3.description,\n",
    "    'metadata': l3.metadata,\n",
    "    'args': kwargs\n",
    "        }\n",
    "\n",
    "l3dict = {\n",
    "    'sources':\n",
    "        {l3.name: l3data}\n",
    "        }\n",
    "\n",
    "l3dict['metadata'] = {'version':1}\n",
    "\n",
    "with open('l3.yaml', 'w') as f:\n",
    "    f.write(yaml.dump(l3dict)) #Can be read in!\n",
    "\n",
    "l3cat = intake.open_catalog('l3.yaml')\n",
    "list(l3cat)\n",
    "l3cat['proj-example']"
   ]
  },
  {
   "cell_type": "code",
   "execution_count": 12,
   "metadata": {},
   "outputs": [],
   "source": [
    "## Now include the sub catalogs b1 and b8\n",
    "\n",
    "data = {'metadata':{'version':1}, 'sources':{}}\n",
    "data['sources'][l3.name]=l3data\n",
    "\n",
    "for key, source in l3.items():\n",
    "    data['sources'][l3.name]['args']['stac_obj']['assets'][key] = source._yaml()['sources']\n",
    "\n",
    "#print(yaml.dump(data, sort_keys=False))\n",
    "\n",
    "with open('test.yaml', 'w') as f:\n",
    "    f.write(yaml.dump(data, sort_keys=False))"
   ]
  },
  {
   "cell_type": "markdown",
   "metadata": {},
   "source": [
    "# Full Circle: Load Intake Catalogue from .YAML"
   ]
  },
  {
   "cell_type": "code",
   "execution_count": 15,
   "metadata": {},
   "outputs": [
    {
     "data": {
      "text/plain": "['proj-example']"
     },
     "execution_count": 15,
     "metadata": {},
     "output_type": "execute_result"
    }
   ],
   "source": [
    "catalog2 = intake.open_catalog('test.yaml')\n",
    "list(catalog2)"
   ]
  },
  {
   "cell_type": "code",
   "execution_count": null,
   "metadata": {},
   "outputs": [],
   "source": [
    "catalog2['proj-example'] #Type Error missing `stac_obj` - the key that I popped, so perhaps I did something taboo\n",
    "#When I add this in like \n",
    "# sources:\n",
    "#   proj-example:\n",
    "#     stac_obj:\n",
    "#       driver: intake_stac.catalog.StacItem\n",
    "# I get a missing required key `driver` Validation Error"
   ]
  }
 ],
 "metadata": {
  "kernelspec": {
   "display_name": "Python 3.9.6 64-bit ('xstac_test': conda)",
   "name": "python396jvsc74a57bd032373ff6b197edf053ae54d25dbb90abc8dafd244d9a029fd20ef0e7aeef20bd"
  },
  "language_info": {
   "codemirror_mode": {
    "name": "ipython",
    "version": 3
   },
   "file_extension": ".py",
   "mimetype": "text/x-python",
   "name": "python",
   "nbconvert_exporter": "python",
   "pygments_lexer": "ipython3",
   "version": "3.9.6"
  },
  "orig_nbformat": 3
 },
 "nbformat": 4,
 "nbformat_minor": 2
}