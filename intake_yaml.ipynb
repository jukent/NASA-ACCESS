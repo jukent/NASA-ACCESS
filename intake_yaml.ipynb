{
 "cells": [
  {
   "cell_type": "code",
   "execution_count": 1,
   "metadata": {},
   "outputs": [
    {
     "data": {
      "text/plain": "'0.3.0.post58'"
     },
     "execution_count": 1,
     "metadata": {},
     "output_type": "execute_result"
    }
   ],
   "source": [
    "import intake\n",
    "import satstac\n",
    "import yaml\n",
    "import inspect\n",
    "import intake_xarray\n",
    "import intake_stac\n",
    "intake_stac.__version__"
   ]
  },
  {
   "cell_type": "markdown",
   "metadata": {},
   "source": [
    "# Load an Intake Catalog, Grab a Single Asset"
   ]
  },
  {
   "cell_type": "code",
   "execution_count": 2,
   "metadata": {},
   "outputs": [
    {
     "name": "stdout",
     "output_type": "stream",
     "text": [
      "['extensions-collection', 'sentinel-2', 'CS3-20160503_132131_08']\n",
      "['proj-example']\n",
      "['B1', 'B8']\n"
     ]
    }
   ],
   "source": [
    "url = 'https://raw.githubusercontent.com/radiantearth/stac-spec/master/examples/catalog.json'\n",
    "stac_cat = intake.open_stac_catalog(url)\n",
    "\n",
    "l1 = stac_cat\n",
    "l2 = stac_cat['extensions-collection']\n",
    "l3 = stac_cat['extensions-collection']['proj-example']\n",
    "\n",
    "print(list(l1))\n",
    "print(list(l2))\n",
    "print(list(l3))"
   ]
  },
  {
   "cell_type": "code",
   "execution_count": 3,
   "metadata": {},
   "outputs": [],
   "source": [
    "b1 = stac_cat['extensions-collection']['proj-example']['B1']\n",
    "b8 = stac_cat['extensions-collection']['proj-example']['B8']\n",
    "\n",
    "#print(type(b1))\n",
    "#print(b1)"
   ]
  },
  {
   "cell_type": "markdown",
   "metadata": {},
   "source": [
    "# Serialize as a .YAML file"
   ]
  },
  {
   "cell_type": "markdown",
   "metadata": {},
   "source": [
    "[Intake _yaml code](https://github.com/intake/intake/blob/471488801bfa338dbfd91f9851b27580f4f3c3bb/intake/source/base.py#L242-L265)\n",
    "\n",
    "``` python\n",
    "def _yaml(self):\n",
    "    import inspect\n",
    "    kwargs = self._captured_init_kwargs.copy()\n",
    "    meta = kwargs.pop('metadata', self.metadata) or {}\n",
    "    kwargs.update(dict(zip(inspect.signature(self.__init__).parameters,\n",
    "                       self._captured_init_args)))\n",
    "    data = {\n",
    "        'sources':\n",
    "            {self.name: {\n",
    "                'driver': self.classname,\n",
    "                'description': self.description or \"\",\n",
    "                'metadata': meta,\n",
    "                'args': kwargs\n",
    "            }}}\n",
    "    return data\n",
    "\n",
    "def yaml(self):\n",
    "    \"\"\"Return YAML representation of this data-source\n",
    "    The output may be roughly appropriate for inclusion in a YAML\n",
    "    catalog. This is a best-effort implementation\n",
    "    \"\"\"\n",
    "    data = self._yaml()\n",
    "    return yaml.dump(data, default_flow_style=False)\n",
    "```"
   ]
  },
  {
   "cell_type": "code",
   "execution_count": null,
   "metadata": {},
   "outputs": [],
   "source": [
    "b1data = b1._yaml() # For datasources the existing yaml implimentation works.\n",
    "b1data['metadata'] = {'version':1}\n",
    "\n",
    "## Confirm that I can save and load this yaml\n",
    "with open('b1test.yaml', 'w') as f:\n",
    "    f.write(yaml.dump(b1data))\n",
    "\n",
    "b1cat = intake.open_catalog('b1test.yaml')\n",
    "#list(b1cat)\n",
    "#b1cat['stac_asset'] #Works!"
   ]
  },
  {
   "cell_type": "code",
   "execution_count": null,
   "metadata": {},
   "outputs": [],
   "source": [
    "b8data = b8._yaml() # For datasources the existing yaml implimentation works.\n",
    "b8data['metadata'] = {'version':1}\n",
    "\n",
    "## Confirm that I can save and load this yaml\n",
    "with open('b8test.yaml', 'w') as f:\n",
    "    f.write(yaml.dump(b8data))\n",
    "\n",
    "b8cat = intake.open_catalog('b8test.yaml')\n",
    "#list(b8cat)\n",
    "#b8cat['stac_asset'] #Works!"
   ]
  },
  {
   "cell_type": "code",
   "execution_count": 51,
   "metadata": {},
   "outputs": [
    {
     "ename": "ValidationError",
     "evalue": "Catalog 'l4mantest.yaml' has validation errors:\n\n(\"missing required key 'driver'\", {'stac_asset': {'args': {'chunks': {}, 'urlpath': 'https://landsat-pds.s3.amazonaws.com/c1/L8/107/018/LC08_L1TP_107018_20181001_20181001_01_RT/LC08_L1TP_107018_20181001_20181001_01_RT_B1.TIF'}, 'description': 'Band 1 (coastal)', 'driver': 'intake_xarray.raster.RasterIOSource', 'metadata': {'catalog_dir': '', 'eo:bands': [{'center_wavelength': 0.44, 'common_name': 'coastal', 'full_width_half_max': 0.02, 'name': 'B1'}], 'href': 'https://landsat-pds.s3.amazonaws.com/c1/L8/107/018/LC08_L1TP_107018_20181001_20181001_01_RT/LC08_L1TP_107018_20181001_20181001_01_RT_B1.TIF', 'plots': {'geotiff': {'cmap': 'viridis', 'data_aspect': 1, 'dynamic': True, 'frame_width': 500, 'kind': 'image', 'rasterize': True, 'x': 'x', 'y': 'y'}}, 'title': 'Band 1 (coastal)', 'type': 'image/tiff; application=geotiff'}}})\n(\"missing required key 'driver'\", {'stac_asset': {'args': {'chunks': {}, 'urlpath': 'https://landsat-pds.s3.amazonaws.com/c1/L8/107/018/LC08_L1TP_107018_20181001_20181001_01_RT/LC08_L1TP_107018_20181001_20181001_01_RT_B8.TIF'}, 'description': 'Band 8 (panchromatic)', 'driver': 'intake_xarray.raster.RasterIOSource', 'metadata': {'catalog_dir': '', 'eo:bands': [{'center_wavelength': 0.59, 'full_width_half_max': 0.18, 'name': 'B8'}], 'href': 'https://landsat-pds.s3.amazonaws.com/c1/L8/107/018/LC08_L1TP_107018_20181001_20181001_01_RT/LC08_L1TP_107018_20181001_20181001_01_RT_B8.TIF', 'plots': {'geotiff': {'cmap': 'viridis', 'data_aspect': 1, 'dynamic': True, 'frame_width': 500, 'kind': 'image', 'rasterize': True, 'x': 'x', 'y': 'y'}}, 'proj:shape': [16781, 16621], 'proj:transform': [15, 0, 224992.5, 0, -15, 6790207.5, 0, 0, 1], 'title': 'Band 8 (panchromatic)', 'type': 'image/tiff; application=geotiff'}}})",
     "output_type": "error",
     "traceback": [
      "\u001b[0;31m---------------------------------------------------------------------------\u001b[0m",
      "\u001b[0;31mValidationError\u001b[0m                           Traceback (most recent call last)",
      "\u001b[0;32m/var/folders/dd/_xm_pbpd3flgbvbnt7qhd70snnbpj_/T/ipykernel_33628/4029669985.py\u001b[0m in \u001b[0;36m<module>\u001b[0;34m\u001b[0m\n\u001b[1;32m      1\u001b[0m \u001b[0;31m## Load the manually edited file to include both\u001b[0m\u001b[0;34m\u001b[0m\u001b[0;34m\u001b[0m\u001b[0;34m\u001b[0m\u001b[0m\n\u001b[1;32m      2\u001b[0m \u001b[0;34m\u001b[0m\u001b[0m\n\u001b[0;32m----> 3\u001b[0;31m \u001b[0ml4mancat\u001b[0m \u001b[0;34m=\u001b[0m \u001b[0mintake\u001b[0m\u001b[0;34m.\u001b[0m\u001b[0mopen_catalog\u001b[0m\u001b[0;34m(\u001b[0m\u001b[0;34m'l4mantest.yaml'\u001b[0m\u001b[0;34m)\u001b[0m\u001b[0;34m\u001b[0m\u001b[0;34m\u001b[0m\u001b[0m\n\u001b[0m",
      "\u001b[0;32m~/miniconda3/envs/xstac_test/lib/python3.9/site-packages/intake/__init__.py\u001b[0m in \u001b[0;36mopen_catalog\u001b[0;34m(uri, **kwargs)\u001b[0m\n\u001b[1;32m    165\u001b[0m         raise ValueError('Unknown catalog driver (%s), supply one of: %s'\n\u001b[1;32m    166\u001b[0m                          % (driver, list(sorted(registry))))\n\u001b[0;32m--> 167\u001b[0;31m     \u001b[0;32mreturn\u001b[0m \u001b[0mregistry\u001b[0m\u001b[0;34m[\u001b[0m\u001b[0mdriver\u001b[0m\u001b[0;34m]\u001b[0m\u001b[0;34m(\u001b[0m\u001b[0muri\u001b[0m\u001b[0;34m,\u001b[0m \u001b[0;34m**\u001b[0m\u001b[0mkwargs\u001b[0m\u001b[0;34m)\u001b[0m\u001b[0;34m\u001b[0m\u001b[0;34m\u001b[0m\u001b[0m\n\u001b[0m",
      "\u001b[0;32m~/miniconda3/envs/xstac_test/lib/python3.9/site-packages/intake/catalog/local.py\u001b[0m in \u001b[0;36m__init__\u001b[0;34m(self, path, autoreload, **kwargs)\u001b[0m\n\u001b[1;32m    566\u001b[0m         \u001b[0mself\u001b[0m\u001b[0;34m.\u001b[0m\u001b[0mfilesystem\u001b[0m \u001b[0;34m=\u001b[0m \u001b[0mkwargs\u001b[0m\u001b[0;34m.\u001b[0m\u001b[0mpop\u001b[0m\u001b[0;34m(\u001b[0m\u001b[0;34m'fs'\u001b[0m\u001b[0;34m,\u001b[0m \u001b[0;32mNone\u001b[0m\u001b[0;34m)\u001b[0m\u001b[0;34m\u001b[0m\u001b[0;34m\u001b[0m\u001b[0m\n\u001b[1;32m    567\u001b[0m         \u001b[0mself\u001b[0m\u001b[0;34m.\u001b[0m\u001b[0maccess\u001b[0m \u001b[0;34m=\u001b[0m \u001b[0;34m\"name\"\u001b[0m \u001b[0;32mnot\u001b[0m \u001b[0;32min\u001b[0m \u001b[0mkwargs\u001b[0m\u001b[0;34m\u001b[0m\u001b[0;34m\u001b[0m\u001b[0m\n\u001b[0;32m--> 568\u001b[0;31m         \u001b[0msuper\u001b[0m\u001b[0;34m(\u001b[0m\u001b[0mYAMLFileCatalog\u001b[0m\u001b[0;34m,\u001b[0m \u001b[0mself\u001b[0m\u001b[0;34m)\u001b[0m\u001b[0;34m.\u001b[0m\u001b[0m__init__\u001b[0m\u001b[0;34m(\u001b[0m\u001b[0;34m**\u001b[0m\u001b[0mkwargs\u001b[0m\u001b[0;34m)\u001b[0m\u001b[0;34m\u001b[0m\u001b[0;34m\u001b[0m\u001b[0m\n\u001b[0m\u001b[1;32m    569\u001b[0m \u001b[0;34m\u001b[0m\u001b[0m\n\u001b[1;32m    570\u001b[0m     \u001b[0;32mdef\u001b[0m \u001b[0m_load\u001b[0m\u001b[0;34m(\u001b[0m\u001b[0mself\u001b[0m\u001b[0;34m,\u001b[0m \u001b[0mreload\u001b[0m\u001b[0;34m=\u001b[0m\u001b[0;32mFalse\u001b[0m\u001b[0;34m)\u001b[0m\u001b[0;34m:\u001b[0m\u001b[0;34m\u001b[0m\u001b[0;34m\u001b[0m\u001b[0m\n",
      "\u001b[0;32m~/miniconda3/envs/xstac_test/lib/python3.9/site-packages/intake/catalog/base.py\u001b[0m in \u001b[0;36m__init__\u001b[0;34m(self, entries, name, description, metadata, ttl, getenv, getshell, persist_mode, storage_options)\u001b[0m\n\u001b[1;32m     98\u001b[0m         \u001b[0mself\u001b[0m\u001b[0;34m.\u001b[0m\u001b[0mupdated\u001b[0m \u001b[0;34m=\u001b[0m \u001b[0mtime\u001b[0m\u001b[0;34m.\u001b[0m\u001b[0mtime\u001b[0m\u001b[0;34m(\u001b[0m\u001b[0;34m)\u001b[0m\u001b[0;34m\u001b[0m\u001b[0;34m\u001b[0m\u001b[0m\n\u001b[1;32m     99\u001b[0m         \u001b[0mself\u001b[0m\u001b[0;34m.\u001b[0m\u001b[0m_entries\u001b[0m \u001b[0;34m=\u001b[0m \u001b[0mentries\u001b[0m \u001b[0;32mif\u001b[0m \u001b[0mentries\u001b[0m \u001b[0;32mis\u001b[0m \u001b[0;32mnot\u001b[0m \u001b[0;32mNone\u001b[0m \u001b[0;32melse\u001b[0m \u001b[0mself\u001b[0m\u001b[0;34m.\u001b[0m\u001b[0m_make_entries_container\u001b[0m\u001b[0;34m(\u001b[0m\u001b[0;34m)\u001b[0m\u001b[0;34m\u001b[0m\u001b[0;34m\u001b[0m\u001b[0m\n\u001b[0;32m--> 100\u001b[0;31m         \u001b[0mself\u001b[0m\u001b[0;34m.\u001b[0m\u001b[0mforce_reload\u001b[0m\u001b[0;34m(\u001b[0m\u001b[0;34m)\u001b[0m\u001b[0;34m\u001b[0m\u001b[0;34m\u001b[0m\u001b[0m\n\u001b[0m\u001b[1;32m    101\u001b[0m \u001b[0;34m\u001b[0m\u001b[0m\n\u001b[1;32m    102\u001b[0m     \u001b[0;34m@\u001b[0m\u001b[0mclassmethod\u001b[0m\u001b[0;34m\u001b[0m\u001b[0;34m\u001b[0m\u001b[0m\n",
      "\u001b[0;32m~/miniconda3/envs/xstac_test/lib/python3.9/site-packages/intake/catalog/base.py\u001b[0m in \u001b[0;36mforce_reload\u001b[0;34m(self)\u001b[0m\n\u001b[1;32m    156\u001b[0m         \u001b[0;34m\"\"\"Imperative reload data now\"\"\"\u001b[0m\u001b[0;34m\u001b[0m\u001b[0;34m\u001b[0m\u001b[0m\n\u001b[1;32m    157\u001b[0m         \u001b[0mself\u001b[0m\u001b[0;34m.\u001b[0m\u001b[0mupdated\u001b[0m \u001b[0;34m=\u001b[0m \u001b[0mtime\u001b[0m\u001b[0;34m.\u001b[0m\u001b[0mtime\u001b[0m\u001b[0;34m(\u001b[0m\u001b[0;34m)\u001b[0m\u001b[0;34m\u001b[0m\u001b[0;34m\u001b[0m\u001b[0m\n\u001b[0;32m--> 158\u001b[0;31m         \u001b[0mself\u001b[0m\u001b[0;34m.\u001b[0m\u001b[0m_load\u001b[0m\u001b[0;34m(\u001b[0m\u001b[0;34m)\u001b[0m\u001b[0;34m\u001b[0m\u001b[0;34m\u001b[0m\u001b[0m\n\u001b[0m\u001b[1;32m    159\u001b[0m \u001b[0;34m\u001b[0m\u001b[0m\n\u001b[1;32m    160\u001b[0m     \u001b[0;32mdef\u001b[0m \u001b[0mreload\u001b[0m\u001b[0;34m(\u001b[0m\u001b[0mself\u001b[0m\u001b[0;34m)\u001b[0m\u001b[0;34m:\u001b[0m\u001b[0;34m\u001b[0m\u001b[0;34m\u001b[0m\u001b[0m\n",
      "\u001b[0;32m~/miniconda3/envs/xstac_test/lib/python3.9/site-packages/intake/catalog/local.py\u001b[0m in \u001b[0;36m_load\u001b[0;34m(self, reload)\u001b[0m\n\u001b[1;32m    601\u001b[0m                 \u001b[0mlogger\u001b[0m\u001b[0;34m.\u001b[0m\u001b[0mwarning\u001b[0m\u001b[0;34m(\u001b[0m\u001b[0;34m\"Use of '!template' deprecated - fixing\"\u001b[0m\u001b[0;34m)\u001b[0m\u001b[0;34m\u001b[0m\u001b[0;34m\u001b[0m\u001b[0m\n\u001b[1;32m    602\u001b[0m                 \u001b[0mtext\u001b[0m \u001b[0;34m=\u001b[0m \u001b[0mtext\u001b[0m\u001b[0;34m.\u001b[0m\u001b[0mreplace\u001b[0m\u001b[0;34m(\u001b[0m\u001b[0;34m'!template '\u001b[0m\u001b[0;34m,\u001b[0m \u001b[0;34m''\u001b[0m\u001b[0;34m)\u001b[0m\u001b[0;34m\u001b[0m\u001b[0;34m\u001b[0m\u001b[0m\n\u001b[0;32m--> 603\u001b[0;31m             \u001b[0mself\u001b[0m\u001b[0;34m.\u001b[0m\u001b[0mparse\u001b[0m\u001b[0;34m(\u001b[0m\u001b[0mtext\u001b[0m\u001b[0;34m)\u001b[0m\u001b[0;34m\u001b[0m\u001b[0;34m\u001b[0m\u001b[0m\n\u001b[0m\u001b[1;32m    604\u001b[0m \u001b[0;34m\u001b[0m\u001b[0m\n\u001b[1;32m    605\u001b[0m     \u001b[0;32mdef\u001b[0m \u001b[0madd\u001b[0m\u001b[0;34m(\u001b[0m\u001b[0mself\u001b[0m\u001b[0;34m,\u001b[0m \u001b[0msource\u001b[0m\u001b[0;34m,\u001b[0m \u001b[0mname\u001b[0m\u001b[0;34m=\u001b[0m\u001b[0;32mNone\u001b[0m\u001b[0;34m,\u001b[0m \u001b[0mpath\u001b[0m\u001b[0;34m=\u001b[0m\u001b[0;32mNone\u001b[0m\u001b[0;34m,\u001b[0m \u001b[0mstorage_options\u001b[0m\u001b[0;34m=\u001b[0m\u001b[0;32mNone\u001b[0m\u001b[0;34m)\u001b[0m\u001b[0;34m:\u001b[0m\u001b[0;34m\u001b[0m\u001b[0;34m\u001b[0m\u001b[0m\n",
      "\u001b[0;32m~/miniconda3/envs/xstac_test/lib/python3.9/site-packages/intake/catalog/local.py\u001b[0m in \u001b[0;36mparse\u001b[0;34m(self, text)\u001b[0m\n\u001b[1;32m    680\u001b[0m                                getshell=self.getshell)\n\u001b[1;32m    681\u001b[0m         \u001b[0;32mif\u001b[0m \u001b[0mresult\u001b[0m\u001b[0;34m.\u001b[0m\u001b[0merrors\u001b[0m\u001b[0;34m:\u001b[0m\u001b[0;34m\u001b[0m\u001b[0;34m\u001b[0m\u001b[0m\n\u001b[0;32m--> 682\u001b[0;31m             raise exceptions.ValidationError(\n\u001b[0m\u001b[1;32m    683\u001b[0m                 \u001b[0;34m\"Catalog '{}' has validation errors:\\n\\n{}\"\u001b[0m\u001b[0;34m\u001b[0m\u001b[0;34m\u001b[0m\u001b[0m\n\u001b[1;32m    684\u001b[0m                 \"\".format(self.path, \"\\n\".join(result.errors)), result.errors)\n",
      "\u001b[0;31mValidationError\u001b[0m: Catalog 'l4mantest.yaml' has validation errors:\n\n(\"missing required key 'driver'\", {'stac_asset': {'args': {'chunks': {}, 'urlpath': 'https://landsat-pds.s3.amazonaws.com/c1/L8/107/018/LC08_L1TP_107018_20181001_20181001_01_RT/LC08_L1TP_107018_20181001_20181001_01_RT_B1.TIF'}, 'description': 'Band 1 (coastal)', 'driver': 'intake_xarray.raster.RasterIOSource', 'metadata': {'catalog_dir': '', 'eo:bands': [{'center_wavelength': 0.44, 'common_name': 'coastal', 'full_width_half_max': 0.02, 'name': 'B1'}], 'href': 'https://landsat-pds.s3.amazonaws.com/c1/L8/107/018/LC08_L1TP_107018_20181001_20181001_01_RT/LC08_L1TP_107018_20181001_20181001_01_RT_B1.TIF', 'plots': {'geotiff': {'cmap': 'viridis', 'data_aspect': 1, 'dynamic': True, 'frame_width': 500, 'kind': 'image', 'rasterize': True, 'x': 'x', 'y': 'y'}}, 'title': 'Band 1 (coastal)', 'type': 'image/tiff; application=geotiff'}}})\n(\"missing required key 'driver'\", {'stac_asset': {'args': {'chunks': {}, 'urlpath': 'https://landsat-pds.s3.amazonaws.com/c1/L8/107/018/LC08_L1TP_107018_20181001_20181001_01_RT/LC08_L1TP_107018_20181001_20181001_01_RT_B8.TIF'}, 'description': 'Band 8 (panchromatic)', 'driver': 'intake_xarray.raster.RasterIOSource', 'metadata': {'catalog_dir': '', 'eo:bands': [{'center_wavelength': 0.59, 'full_width_half_max': 0.18, 'name': 'B8'}], 'href': 'https://landsat-pds.s3.amazonaws.com/c1/L8/107/018/LC08_L1TP_107018_20181001_20181001_01_RT/LC08_L1TP_107018_20181001_20181001_01_RT_B8.TIF', 'plots': {'geotiff': {'cmap': 'viridis', 'data_aspect': 1, 'dynamic': True, 'frame_width': 500, 'kind': 'image', 'rasterize': True, 'x': 'x', 'y': 'y'}}, 'proj:shape': [16781, 16621], 'proj:transform': [15, 0, 224992.5, 0, -15, 6790207.5, 0, 0, 1], 'title': 'Band 8 (panchromatic)', 'type': 'image/tiff; application=geotiff'}}})"
     ]
    }
   ],
   "source": [
    "## Load the manually edited file to include both\n",
    "\n",
    "l4mancat = intake.open_catalog('l4mantest.yaml')"
   ]
  },
  {
   "cell_type": "code",
   "execution_count": 45,
   "metadata": {},
   "outputs": [
    {
     "ename": "ValidationError",
     "evalue": "Catalog 'l4test.yaml' has validation errors:\n\n(\"missing key 'sources'\", {'args': {'name': 'proj-example', 'stac_obj': {'assets': {'B1': {'stac_asset': {'args': {'chunks': {}, 'urlpath': 'https://landsat-pds.s3.amazonaws.com/c1/L8/107/018/LC08_L1TP_107018_20181001_20181001_01_RT/LC08_L1TP_107018_20181001_20181001_01_RT_B1.TIF'}, 'description': 'Band 1 (coastal)', 'driver': 'intake_xarray.raster.RasterIOSource', 'metadata': {'catalog_dir': '', 'eo:bands': [{'center_wavelength': 0.44, 'common_name': 'coastal', 'full_width_half_max': 0.02, 'name': 'B1'}], 'href': 'https://landsat-pds.s3.amazonaws.com/c1/L8/107/018/LC08_L1TP_107018_20181001_20181001_01_RT/LC08_L1TP_107018_20181001_20181001_01_RT_B1.TIF', 'plots': {'geotiff': {'cmap': 'viridis', 'data_aspect': 1, 'dynamic': True, 'frame_width': 500, 'kind': 'image', 'rasterize': True, 'x': 'x', 'y': 'y'}}, 'title': 'Band 1 (coastal)', 'type': 'image/tiff; application=geotiff'}}}, 'B8': {'stac_asset': {'args': {'chunks': {}, 'urlpath': 'https://landsat-pds.s3.amazonaws.com/c1/L8/107/018/LC08_L1TP_107018_20181001_20181001_01_RT/LC08_L1TP_107018_20181001_20181001_01_RT_B8.TIF'}, 'description': 'Band 8 (panchromatic)', 'driver': 'intake_xarray.raster.RasterIOSource', 'metadata': {'catalog_dir': '', 'eo:bands': [{'center_wavelength': 0.59, 'full_width_half_max': 0.18, 'name': 'B8'}], 'href': 'https://landsat-pds.s3.amazonaws.com/c1/L8/107/018/LC08_L1TP_107018_20181001_20181001_01_RT/LC08_L1TP_107018_20181001_20181001_01_RT_B8.TIF', 'plots': {'geotiff': {'cmap': 'viridis', 'data_aspect': 1, 'dynamic': True, 'frame_width': 500, 'kind': 'image', 'rasterize': True, 'x': 'x', 'y': 'y'}}, 'proj:shape': [16781, 16621], 'proj:transform': [15, 0, 224992.5, 0, -15, 6790207.5, 0, 0, 1], 'title': 'Band 8 (panchromatic)', 'type': 'image/tiff; application=geotiff'}}}}}}, 'description': '', 'driver': 'intake_stac.catalog.StacItem', 'metadata': {'bbox': [148.13933, 59.51584, 152.52758, 60.63437], 'catalog_dir': '', 'date': None, 'datetime': datetime.datetime(2018, 10, 1, 1, 8, 32, 33000, tzinfo=datetime.timezone.utc), 'geometry': {'coordinates': [[[152.52758, 60.63437], [149.1755, 61.19016], [148.13933, 59.51584], [151.33786, 58.97792], [152.52758, 60.63437]]], 'type': 'Polygon'}, 'proj:bbox': [169200, 3712800, 403200, 3951000], 'proj:centroid': {'lat': 34.595302781575604, 'lon': -101.34448382627504}, 'proj:epsg': 32614, 'proj:geometry': {'coordinates': [[[169200, 3712800], [403200, 3712800], [403200, 3951000], [169200, 3951000], [169200, 3712800]]], 'type': 'Polygon'}, 'proj:projjson': {'$schema': 'https://proj.org/schemas/v0.2/projjson.schema.json', 'area': 'World - N hemisphere - 102°W to 96°W - by country', 'base_crs': {'coordinate_system': {'axis': [{'abbreviation': 'Lat', 'direction': 'north', 'name': 'Geodetic latitude', 'unit': 'degree'}, {'abbreviation': 'Lon', 'direction': 'east', 'name': 'Geodetic longitude', 'unit': 'degree'}], 'subtype': 'ellipsoidal'}, 'datum': {'ellipsoid': {'inverse_flattening': 298.257223563, 'name': 'WGS 84', 'semi_major_axis': 6378137}, 'name': 'World Geodetic System 1984', 'type': 'GeodeticReferenceFrame'}, 'id': {'authority': 'EPSG', 'code': 4326}, 'name': 'WGS 84'}, 'bbox': {'east_longitude': -96, 'north_latitude': 84, 'south_latitude': 0, 'west_longitude': -102}, 'conversion': {'method': {'id': {'authority': 'EPSG', 'code': 9807}, 'name': 'Transverse Mercator'}, 'name': 'UTM zone 14N', 'parameters': [{'id': {'authority': 'EPSG', 'code': 8801}, 'name': 'Latitude of natural origin', 'unit': 'degree', 'value': 0}, {'id': {'authority': 'EPSG', 'code': 8802}, 'name': 'Longitude of natural origin', 'unit': 'degree', 'value': -99}, {'id': {'authority': 'EPSG', 'code': 8805}, 'name': 'Scale factor at natural origin', 'unit': 'unity', 'value': 0.9996}, {'id': {'authority': 'EPSG', 'code': 8806}, 'name': 'False easting', 'unit': 'metre', 'value': 500000}, {'id': {'authority': 'EPSG', 'code': 8807}, 'name': 'False northing', 'unit': 'metre', 'value': 0}]}, 'coordinate_system': {'axis': [{'abbreviation': 'E', 'direction': 'east', 'name': 'Easting', 'unit': 'metre'}, {'abbreviation': 'N', 'direction': 'north', 'name': 'Northing', 'unit': 'metre'}], 'subtype': 'Cartesian'}, 'id': {'authority': 'EPSG', 'code': 32614}, 'name': 'WGS 84 / UTM zone 14N', 'type': 'ProjectedCRS'}, 'proj:shape': [8391, 8311], 'proj:transform': [30, 0, 224985, 0, -30, 6790215, 0, 0, 1], 'proj:wkt2': 'PROJCS[\"WGS 84 / UTM zone 14N\",GEOGCS[\"WGS 84\",DATUM[\"WGS_1984\",SPHEROID[\"WGS 84\",6378137,298.257223563,AUTHORITY[\"EPSG\",\"7030\"]],AUTHORITY[\"EPSG\",\"6326\"]],PRIMEM[\"Greenwich\",0,AUTHORITY[\"EPSG\",\"8901\"]],UNIT[\"degree\",0.01745329251994328,AUTHORITY[\"EPSG\",\"9122\"]],AUTHORITY[\"EPSG\",\"4326\"]],UNIT[\"metre\",1,AUTHORITY[\"EPSG\",\"9001\"]],PROJECTION[\"Transverse_Mercator\"],PARAMETER[\"latitude_of_origin\",0],PARAMETER[\"central_meridian\",-99],PARAMETER[\"scale_factor\",0.9996],PARAMETER[\"false_easting\",500000],PARAMETER[\"false_northing\",0],AUTHORITY[\"EPSG\",\"32614\"],AXIS[\"Easting\",EAST],AXIS[\"Northing\",NORTH]]'}, 'stac_asset': {'sources': {'stac_asset': {'args': {'chunks': {}, 'urlpath': 'https://landsat-pds.s3.amazonaws.com/c1/L8/107/018/LC08_L1TP_107018_20181001_20181001_01_RT/LC08_L1TP_107018_20181001_20181001_01_RT_B8.TIF'}, 'description': 'Band 8 (panchromatic)', 'driver': 'intake_xarray.raster.RasterIOSource', 'metadata': {'catalog_dir': '', 'eo:bands': [{'center_wavelength': 0.59, 'full_width_half_max': 0.18, 'name': 'B8'}], 'href': 'https://landsat-pds.s3.amazonaws.com/c1/L8/107/018/LC08_L1TP_107018_20181001_20181001_01_RT/LC08_L1TP_107018_20181001_20181001_01_RT_B8.TIF', 'plots': {'geotiff': {'cmap': 'viridis', 'data_aspect': 1, 'dynamic': True, 'frame_width': 500, 'kind': 'image', 'rasterize': True, 'x': 'x', 'y': 'y'}}, 'proj:shape': [16781, 16621], 'proj:transform': [15, 0, 224992.5, 0, -15, 6790207.5, 0, 0, 1], 'title': 'Band 8 (panchromatic)', 'type': 'image/tiff; application=geotiff'}}}}, 'stac_obj': {'assets': {'B1': {'stac_asset': {'args': {'chunks': {}, 'urlpath': 'https://landsat-pds.s3.amazonaws.com/c1/L8/107/018/LC08_L1TP_107018_20181001_20181001_01_RT/LC08_L1TP_107018_20181001_20181001_01_RT_B1.TIF'}, 'description': 'Band 1 (coastal)', 'driver': 'intake_xarray.raster.RasterIOSource', 'metadata': {'catalog_dir': '', 'eo:bands': [{'center_wavelength': 0.44, 'common_name': 'coastal', 'full_width_half_max': 0.02, 'name': 'B1'}], 'href': 'https://landsat-pds.s3.amazonaws.com/c1/L8/107/018/LC08_L1TP_107018_20181001_20181001_01_RT/LC08_L1TP_107018_20181001_20181001_01_RT_B1.TIF', 'plots': {'geotiff': {'cmap': 'viridis', 'data_aspect': 1, 'dynamic': True, 'frame_width': 500, 'kind': 'image', 'rasterize': True, 'x': 'x', 'y': 'y'}}, 'title': 'Band 1 (coastal)', 'type': 'image/tiff; application=geotiff'}}}, 'B8': {'stac_asset': {'args': {'chunks': {}, 'urlpath': 'https://landsat-pds.s3.amazonaws.com/c1/L8/107/018/LC08_L1TP_107018_20181001_20181001_01_RT/LC08_L1TP_107018_20181001_20181001_01_RT_B8.TIF'}, 'description': 'Band 8 (panchromatic)', 'driver': 'intake_xarray.raster.RasterIOSource', 'metadata': {'catalog_dir': '', 'eo:bands': [{'center_wavelength': 0.59, 'full_width_half_max': 0.18, 'name': 'B8'}], 'href': 'https://landsat-pds.s3.amazonaws.com/c1/L8/107/018/LC08_L1TP_107018_20181001_20181001_01_RT/LC08_L1TP_107018_20181001_20181001_01_RT_B8.TIF', 'plots': {'geotiff': {'cmap': 'viridis', 'data_aspect': 1, 'dynamic': True, 'frame_width': 500, 'kind': 'image', 'rasterize': True, 'x': 'x', 'y': 'y'}}, 'proj:shape': [16781, 16621], 'proj:transform': [15, 0, 224992.5, 0, -15, 6790207.5, 0, 0, 1], 'title': 'Band 8 (panchromatic)', 'type': 'image/tiff; application=geotiff'}}}}}})",
     "output_type": "error",
     "traceback": [
      "\u001b[0;31m---------------------------------------------------------------------------\u001b[0m",
      "\u001b[0;31mValidationError\u001b[0m                           Traceback (most recent call last)",
      "\u001b[0;32m/var/folders/dd/_xm_pbpd3flgbvbnt7qhd70snnbpj_/T/ipykernel_33628/2905183571.py\u001b[0m in \u001b[0;36m<module>\u001b[0;34m\u001b[0m\n\u001b[1;32m     10\u001b[0m     \u001b[0mf\u001b[0m\u001b[0;34m.\u001b[0m\u001b[0mwrite\u001b[0m\u001b[0;34m(\u001b[0m\u001b[0myaml\u001b[0m\u001b[0;34m.\u001b[0m\u001b[0mdump\u001b[0m\u001b[0;34m(\u001b[0m\u001b[0ml4data\u001b[0m\u001b[0;34m)\u001b[0m\u001b[0;34m)\u001b[0m\u001b[0;34m\u001b[0m\u001b[0;34m\u001b[0m\u001b[0m\n\u001b[1;32m     11\u001b[0m \u001b[0;34m\u001b[0m\u001b[0m\n\u001b[0;32m---> 12\u001b[0;31m \u001b[0ml4catalog\u001b[0m \u001b[0;34m=\u001b[0m \u001b[0mintake\u001b[0m\u001b[0;34m.\u001b[0m\u001b[0mopen_catalog\u001b[0m\u001b[0;34m(\u001b[0m\u001b[0;34m'l4test.yaml'\u001b[0m\u001b[0;34m)\u001b[0m \u001b[0;31m#Validation Error can't find `driver`\u001b[0m\u001b[0;34m\u001b[0m\u001b[0;34m\u001b[0m\u001b[0m\n\u001b[0m",
      "\u001b[0;32m~/miniconda3/envs/xstac_test/lib/python3.9/site-packages/intake/__init__.py\u001b[0m in \u001b[0;36mopen_catalog\u001b[0;34m(uri, **kwargs)\u001b[0m\n\u001b[1;32m    165\u001b[0m         raise ValueError('Unknown catalog driver (%s), supply one of: %s'\n\u001b[1;32m    166\u001b[0m                          % (driver, list(sorted(registry))))\n\u001b[0;32m--> 167\u001b[0;31m     \u001b[0;32mreturn\u001b[0m \u001b[0mregistry\u001b[0m\u001b[0;34m[\u001b[0m\u001b[0mdriver\u001b[0m\u001b[0;34m]\u001b[0m\u001b[0;34m(\u001b[0m\u001b[0muri\u001b[0m\u001b[0;34m,\u001b[0m \u001b[0;34m**\u001b[0m\u001b[0mkwargs\u001b[0m\u001b[0;34m)\u001b[0m\u001b[0;34m\u001b[0m\u001b[0;34m\u001b[0m\u001b[0m\n\u001b[0m",
      "\u001b[0;32m~/miniconda3/envs/xstac_test/lib/python3.9/site-packages/intake/catalog/local.py\u001b[0m in \u001b[0;36m__init__\u001b[0;34m(self, path, autoreload, **kwargs)\u001b[0m\n\u001b[1;32m    566\u001b[0m         \u001b[0mself\u001b[0m\u001b[0;34m.\u001b[0m\u001b[0mfilesystem\u001b[0m \u001b[0;34m=\u001b[0m \u001b[0mkwargs\u001b[0m\u001b[0;34m.\u001b[0m\u001b[0mpop\u001b[0m\u001b[0;34m(\u001b[0m\u001b[0;34m'fs'\u001b[0m\u001b[0;34m,\u001b[0m \u001b[0;32mNone\u001b[0m\u001b[0;34m)\u001b[0m\u001b[0;34m\u001b[0m\u001b[0;34m\u001b[0m\u001b[0m\n\u001b[1;32m    567\u001b[0m         \u001b[0mself\u001b[0m\u001b[0;34m.\u001b[0m\u001b[0maccess\u001b[0m \u001b[0;34m=\u001b[0m \u001b[0;34m\"name\"\u001b[0m \u001b[0;32mnot\u001b[0m \u001b[0;32min\u001b[0m \u001b[0mkwargs\u001b[0m\u001b[0;34m\u001b[0m\u001b[0;34m\u001b[0m\u001b[0m\n\u001b[0;32m--> 568\u001b[0;31m         \u001b[0msuper\u001b[0m\u001b[0;34m(\u001b[0m\u001b[0mYAMLFileCatalog\u001b[0m\u001b[0;34m,\u001b[0m \u001b[0mself\u001b[0m\u001b[0;34m)\u001b[0m\u001b[0;34m.\u001b[0m\u001b[0m__init__\u001b[0m\u001b[0;34m(\u001b[0m\u001b[0;34m**\u001b[0m\u001b[0mkwargs\u001b[0m\u001b[0;34m)\u001b[0m\u001b[0;34m\u001b[0m\u001b[0;34m\u001b[0m\u001b[0m\n\u001b[0m\u001b[1;32m    569\u001b[0m \u001b[0;34m\u001b[0m\u001b[0m\n\u001b[1;32m    570\u001b[0m     \u001b[0;32mdef\u001b[0m \u001b[0m_load\u001b[0m\u001b[0;34m(\u001b[0m\u001b[0mself\u001b[0m\u001b[0;34m,\u001b[0m \u001b[0mreload\u001b[0m\u001b[0;34m=\u001b[0m\u001b[0;32mFalse\u001b[0m\u001b[0;34m)\u001b[0m\u001b[0;34m:\u001b[0m\u001b[0;34m\u001b[0m\u001b[0;34m\u001b[0m\u001b[0m\n",
      "\u001b[0;32m~/miniconda3/envs/xstac_test/lib/python3.9/site-packages/intake/catalog/base.py\u001b[0m in \u001b[0;36m__init__\u001b[0;34m(self, entries, name, description, metadata, ttl, getenv, getshell, persist_mode, storage_options)\u001b[0m\n\u001b[1;32m     98\u001b[0m         \u001b[0mself\u001b[0m\u001b[0;34m.\u001b[0m\u001b[0mupdated\u001b[0m \u001b[0;34m=\u001b[0m \u001b[0mtime\u001b[0m\u001b[0;34m.\u001b[0m\u001b[0mtime\u001b[0m\u001b[0;34m(\u001b[0m\u001b[0;34m)\u001b[0m\u001b[0;34m\u001b[0m\u001b[0;34m\u001b[0m\u001b[0m\n\u001b[1;32m     99\u001b[0m         \u001b[0mself\u001b[0m\u001b[0;34m.\u001b[0m\u001b[0m_entries\u001b[0m \u001b[0;34m=\u001b[0m \u001b[0mentries\u001b[0m \u001b[0;32mif\u001b[0m \u001b[0mentries\u001b[0m \u001b[0;32mis\u001b[0m \u001b[0;32mnot\u001b[0m \u001b[0;32mNone\u001b[0m \u001b[0;32melse\u001b[0m \u001b[0mself\u001b[0m\u001b[0;34m.\u001b[0m\u001b[0m_make_entries_container\u001b[0m\u001b[0;34m(\u001b[0m\u001b[0;34m)\u001b[0m\u001b[0;34m\u001b[0m\u001b[0;34m\u001b[0m\u001b[0m\n\u001b[0;32m--> 100\u001b[0;31m         \u001b[0mself\u001b[0m\u001b[0;34m.\u001b[0m\u001b[0mforce_reload\u001b[0m\u001b[0;34m(\u001b[0m\u001b[0;34m)\u001b[0m\u001b[0;34m\u001b[0m\u001b[0;34m\u001b[0m\u001b[0m\n\u001b[0m\u001b[1;32m    101\u001b[0m \u001b[0;34m\u001b[0m\u001b[0m\n\u001b[1;32m    102\u001b[0m     \u001b[0;34m@\u001b[0m\u001b[0mclassmethod\u001b[0m\u001b[0;34m\u001b[0m\u001b[0;34m\u001b[0m\u001b[0m\n",
      "\u001b[0;32m~/miniconda3/envs/xstac_test/lib/python3.9/site-packages/intake/catalog/base.py\u001b[0m in \u001b[0;36mforce_reload\u001b[0;34m(self)\u001b[0m\n\u001b[1;32m    156\u001b[0m         \u001b[0;34m\"\"\"Imperative reload data now\"\"\"\u001b[0m\u001b[0;34m\u001b[0m\u001b[0;34m\u001b[0m\u001b[0m\n\u001b[1;32m    157\u001b[0m         \u001b[0mself\u001b[0m\u001b[0;34m.\u001b[0m\u001b[0mupdated\u001b[0m \u001b[0;34m=\u001b[0m \u001b[0mtime\u001b[0m\u001b[0;34m.\u001b[0m\u001b[0mtime\u001b[0m\u001b[0;34m(\u001b[0m\u001b[0;34m)\u001b[0m\u001b[0;34m\u001b[0m\u001b[0;34m\u001b[0m\u001b[0m\n\u001b[0;32m--> 158\u001b[0;31m         \u001b[0mself\u001b[0m\u001b[0;34m.\u001b[0m\u001b[0m_load\u001b[0m\u001b[0;34m(\u001b[0m\u001b[0;34m)\u001b[0m\u001b[0;34m\u001b[0m\u001b[0;34m\u001b[0m\u001b[0m\n\u001b[0m\u001b[1;32m    159\u001b[0m \u001b[0;34m\u001b[0m\u001b[0m\n\u001b[1;32m    160\u001b[0m     \u001b[0;32mdef\u001b[0m \u001b[0mreload\u001b[0m\u001b[0;34m(\u001b[0m\u001b[0mself\u001b[0m\u001b[0;34m)\u001b[0m\u001b[0;34m:\u001b[0m\u001b[0;34m\u001b[0m\u001b[0;34m\u001b[0m\u001b[0m\n",
      "\u001b[0;32m~/miniconda3/envs/xstac_test/lib/python3.9/site-packages/intake/catalog/local.py\u001b[0m in \u001b[0;36m_load\u001b[0;34m(self, reload)\u001b[0m\n\u001b[1;32m    601\u001b[0m                 \u001b[0mlogger\u001b[0m\u001b[0;34m.\u001b[0m\u001b[0mwarning\u001b[0m\u001b[0;34m(\u001b[0m\u001b[0;34m\"Use of '!template' deprecated - fixing\"\u001b[0m\u001b[0;34m)\u001b[0m\u001b[0;34m\u001b[0m\u001b[0;34m\u001b[0m\u001b[0m\n\u001b[1;32m    602\u001b[0m                 \u001b[0mtext\u001b[0m \u001b[0;34m=\u001b[0m \u001b[0mtext\u001b[0m\u001b[0;34m.\u001b[0m\u001b[0mreplace\u001b[0m\u001b[0;34m(\u001b[0m\u001b[0;34m'!template '\u001b[0m\u001b[0;34m,\u001b[0m \u001b[0;34m''\u001b[0m\u001b[0;34m)\u001b[0m\u001b[0;34m\u001b[0m\u001b[0;34m\u001b[0m\u001b[0m\n\u001b[0;32m--> 603\u001b[0;31m             \u001b[0mself\u001b[0m\u001b[0;34m.\u001b[0m\u001b[0mparse\u001b[0m\u001b[0;34m(\u001b[0m\u001b[0mtext\u001b[0m\u001b[0;34m)\u001b[0m\u001b[0;34m\u001b[0m\u001b[0;34m\u001b[0m\u001b[0m\n\u001b[0m\u001b[1;32m    604\u001b[0m \u001b[0;34m\u001b[0m\u001b[0m\n\u001b[1;32m    605\u001b[0m     \u001b[0;32mdef\u001b[0m \u001b[0madd\u001b[0m\u001b[0;34m(\u001b[0m\u001b[0mself\u001b[0m\u001b[0;34m,\u001b[0m \u001b[0msource\u001b[0m\u001b[0;34m,\u001b[0m \u001b[0mname\u001b[0m\u001b[0;34m=\u001b[0m\u001b[0;32mNone\u001b[0m\u001b[0;34m,\u001b[0m \u001b[0mpath\u001b[0m\u001b[0;34m=\u001b[0m\u001b[0;32mNone\u001b[0m\u001b[0;34m,\u001b[0m \u001b[0mstorage_options\u001b[0m\u001b[0;34m=\u001b[0m\u001b[0;32mNone\u001b[0m\u001b[0;34m)\u001b[0m\u001b[0;34m:\u001b[0m\u001b[0;34m\u001b[0m\u001b[0;34m\u001b[0m\u001b[0m\n",
      "\u001b[0;32m~/miniconda3/envs/xstac_test/lib/python3.9/site-packages/intake/catalog/local.py\u001b[0m in \u001b[0;36mparse\u001b[0;34m(self, text)\u001b[0m\n\u001b[1;32m    680\u001b[0m                                getshell=self.getshell)\n\u001b[1;32m    681\u001b[0m         \u001b[0;32mif\u001b[0m \u001b[0mresult\u001b[0m\u001b[0;34m.\u001b[0m\u001b[0merrors\u001b[0m\u001b[0;34m:\u001b[0m\u001b[0;34m\u001b[0m\u001b[0;34m\u001b[0m\u001b[0m\n\u001b[0;32m--> 682\u001b[0;31m             raise exceptions.ValidationError(\n\u001b[0m\u001b[1;32m    683\u001b[0m                 \u001b[0;34m\"Catalog '{}' has validation errors:\\n\\n{}\"\u001b[0m\u001b[0;34m\u001b[0m\u001b[0;34m\u001b[0m\u001b[0m\n\u001b[1;32m    684\u001b[0m                 \"\".format(self.path, \"\\n\".join(result.errors)), result.errors)\n",
      "\u001b[0;31mValidationError\u001b[0m: Catalog 'l4test.yaml' has validation errors:\n\n(\"missing key 'sources'\", {'args': {'name': 'proj-example', 'stac_obj': {'assets': {'B1': {'stac_asset': {'args': {'chunks': {}, 'urlpath': 'https://landsat-pds.s3.amazonaws.com/c1/L8/107/018/LC08_L1TP_107018_20181001_20181001_01_RT/LC08_L1TP_107018_20181001_20181001_01_RT_B1.TIF'}, 'description': 'Band 1 (coastal)', 'driver': 'intake_xarray.raster.RasterIOSource', 'metadata': {'catalog_dir': '', 'eo:bands': [{'center_wavelength': 0.44, 'common_name': 'coastal', 'full_width_half_max': 0.02, 'name': 'B1'}], 'href': 'https://landsat-pds.s3.amazonaws.com/c1/L8/107/018/LC08_L1TP_107018_20181001_20181001_01_RT/LC08_L1TP_107018_20181001_20181001_01_RT_B1.TIF', 'plots': {'geotiff': {'cmap': 'viridis', 'data_aspect': 1, 'dynamic': True, 'frame_width': 500, 'kind': 'image', 'rasterize': True, 'x': 'x', 'y': 'y'}}, 'title': 'Band 1 (coastal)', 'type': 'image/tiff; application=geotiff'}}}, 'B8': {'stac_asset': {'args': {'chunks': {}, 'urlpath': 'https://landsat-pds.s3.amazonaws.com/c1/L8/107/018/LC08_L1TP_107018_20181001_20181001_01_RT/LC08_L1TP_107018_20181001_20181001_01_RT_B8.TIF'}, 'description': 'Band 8 (panchromatic)', 'driver': 'intake_xarray.raster.RasterIOSource', 'metadata': {'catalog_dir': '', 'eo:bands': [{'center_wavelength': 0.59, 'full_width_half_max': 0.18, 'name': 'B8'}], 'href': 'https://landsat-pds.s3.amazonaws.com/c1/L8/107/018/LC08_L1TP_107018_20181001_20181001_01_RT/LC08_L1TP_107018_20181001_20181001_01_RT_B8.TIF', 'plots': {'geotiff': {'cmap': 'viridis', 'data_aspect': 1, 'dynamic': True, 'frame_width': 500, 'kind': 'image', 'rasterize': True, 'x': 'x', 'y': 'y'}}, 'proj:shape': [16781, 16621], 'proj:transform': [15, 0, 224992.5, 0, -15, 6790207.5, 0, 0, 1], 'title': 'Band 8 (panchromatic)', 'type': 'image/tiff; application=geotiff'}}}}}}, 'description': '', 'driver': 'intake_stac.catalog.StacItem', 'metadata': {'bbox': [148.13933, 59.51584, 152.52758, 60.63437], 'catalog_dir': '', 'date': None, 'datetime': datetime.datetime(2018, 10, 1, 1, 8, 32, 33000, tzinfo=datetime.timezone.utc), 'geometry': {'coordinates': [[[152.52758, 60.63437], [149.1755, 61.19016], [148.13933, 59.51584], [151.33786, 58.97792], [152.52758, 60.63437]]], 'type': 'Polygon'}, 'proj:bbox': [169200, 3712800, 403200, 3951000], 'proj:centroid': {'lat': 34.595302781575604, 'lon': -101.34448382627504}, 'proj:epsg': 32614, 'proj:geometry': {'coordinates': [[[169200, 3712800], [403200, 3712800], [403200, 3951000], [169200, 3951000], [169200, 3712800]]], 'type': 'Polygon'}, 'proj:projjson': {'$schema': 'https://proj.org/schemas/v0.2/projjson.schema.json', 'area': 'World - N hemisphere - 102°W to 96°W - by country', 'base_crs': {'coordinate_system': {'axis': [{'abbreviation': 'Lat', 'direction': 'north', 'name': 'Geodetic latitude', 'unit': 'degree'}, {'abbreviation': 'Lon', 'direction': 'east', 'name': 'Geodetic longitude', 'unit': 'degree'}], 'subtype': 'ellipsoidal'}, 'datum': {'ellipsoid': {'inverse_flattening': 298.257223563, 'name': 'WGS 84', 'semi_major_axis': 6378137}, 'name': 'World Geodetic System 1984', 'type': 'GeodeticReferenceFrame'}, 'id': {'authority': 'EPSG', 'code': 4326}, 'name': 'WGS 84'}, 'bbox': {'east_longitude': -96, 'north_latitude': 84, 'south_latitude': 0, 'west_longitude': -102}, 'conversion': {'method': {'id': {'authority': 'EPSG', 'code': 9807}, 'name': 'Transverse Mercator'}, 'name': 'UTM zone 14N', 'parameters': [{'id': {'authority': 'EPSG', 'code': 8801}, 'name': 'Latitude of natural origin', 'unit': 'degree', 'value': 0}, {'id': {'authority': 'EPSG', 'code': 8802}, 'name': 'Longitude of natural origin', 'unit': 'degree', 'value': -99}, {'id': {'authority': 'EPSG', 'code': 8805}, 'name': 'Scale factor at natural origin', 'unit': 'unity', 'value': 0.9996}, {'id': {'authority': 'EPSG', 'code': 8806}, 'name': 'False easting', 'unit': 'metre', 'value': 500000}, {'id': {'authority': 'EPSG', 'code': 8807}, 'name': 'False northing', 'unit': 'metre', 'value': 0}]}, 'coordinate_system': {'axis': [{'abbreviation': 'E', 'direction': 'east', 'name': 'Easting', 'unit': 'metre'}, {'abbreviation': 'N', 'direction': 'north', 'name': 'Northing', 'unit': 'metre'}], 'subtype': 'Cartesian'}, 'id': {'authority': 'EPSG', 'code': 32614}, 'name': 'WGS 84 / UTM zone 14N', 'type': 'ProjectedCRS'}, 'proj:shape': [8391, 8311], 'proj:transform': [30, 0, 224985, 0, -30, 6790215, 0, 0, 1], 'proj:wkt2': 'PROJCS[\"WGS 84 / UTM zone 14N\",GEOGCS[\"WGS 84\",DATUM[\"WGS_1984\",SPHEROID[\"WGS 84\",6378137,298.257223563,AUTHORITY[\"EPSG\",\"7030\"]],AUTHORITY[\"EPSG\",\"6326\"]],PRIMEM[\"Greenwich\",0,AUTHORITY[\"EPSG\",\"8901\"]],UNIT[\"degree\",0.01745329251994328,AUTHORITY[\"EPSG\",\"9122\"]],AUTHORITY[\"EPSG\",\"4326\"]],UNIT[\"metre\",1,AUTHORITY[\"EPSG\",\"9001\"]],PROJECTION[\"Transverse_Mercator\"],PARAMETER[\"latitude_of_origin\",0],PARAMETER[\"central_meridian\",-99],PARAMETER[\"scale_factor\",0.9996],PARAMETER[\"false_easting\",500000],PARAMETER[\"false_northing\",0],AUTHORITY[\"EPSG\",\"32614\"],AXIS[\"Easting\",EAST],AXIS[\"Northing\",NORTH]]'}, 'stac_asset': {'sources': {'stac_asset': {'args': {'chunks': {}, 'urlpath': 'https://landsat-pds.s3.amazonaws.com/c1/L8/107/018/LC08_L1TP_107018_20181001_20181001_01_RT/LC08_L1TP_107018_20181001_20181001_01_RT_B8.TIF'}, 'description': 'Band 8 (panchromatic)', 'driver': 'intake_xarray.raster.RasterIOSource', 'metadata': {'catalog_dir': '', 'eo:bands': [{'center_wavelength': 0.59, 'full_width_half_max': 0.18, 'name': 'B8'}], 'href': 'https://landsat-pds.s3.amazonaws.com/c1/L8/107/018/LC08_L1TP_107018_20181001_20181001_01_RT/LC08_L1TP_107018_20181001_20181001_01_RT_B8.TIF', 'plots': {'geotiff': {'cmap': 'viridis', 'data_aspect': 1, 'dynamic': True, 'frame_width': 500, 'kind': 'image', 'rasterize': True, 'x': 'x', 'y': 'y'}}, 'proj:shape': [16781, 16621], 'proj:transform': [15, 0, 224992.5, 0, -15, 6790207.5, 0, 0, 1], 'title': 'Band 8 (panchromatic)', 'type': 'image/tiff; application=geotiff'}}}}, 'stac_obj': {'assets': {'B1': {'stac_asset': {'args': {'chunks': {}, 'urlpath': 'https://landsat-pds.s3.amazonaws.com/c1/L8/107/018/LC08_L1TP_107018_20181001_20181001_01_RT/LC08_L1TP_107018_20181001_20181001_01_RT_B1.TIF'}, 'description': 'Band 1 (coastal)', 'driver': 'intake_xarray.raster.RasterIOSource', 'metadata': {'catalog_dir': '', 'eo:bands': [{'center_wavelength': 0.44, 'common_name': 'coastal', 'full_width_half_max': 0.02, 'name': 'B1'}], 'href': 'https://landsat-pds.s3.amazonaws.com/c1/L8/107/018/LC08_L1TP_107018_20181001_20181001_01_RT/LC08_L1TP_107018_20181001_20181001_01_RT_B1.TIF', 'plots': {'geotiff': {'cmap': 'viridis', 'data_aspect': 1, 'dynamic': True, 'frame_width': 500, 'kind': 'image', 'rasterize': True, 'x': 'x', 'y': 'y'}}, 'title': 'Band 1 (coastal)', 'type': 'image/tiff; application=geotiff'}}}, 'B8': {'stac_asset': {'args': {'chunks': {}, 'urlpath': 'https://landsat-pds.s3.amazonaws.com/c1/L8/107/018/LC08_L1TP_107018_20181001_20181001_01_RT/LC08_L1TP_107018_20181001_20181001_01_RT_B8.TIF'}, 'description': 'Band 8 (panchromatic)', 'driver': 'intake_xarray.raster.RasterIOSource', 'metadata': {'catalog_dir': '', 'eo:bands': [{'center_wavelength': 0.59, 'full_width_half_max': 0.18, 'name': 'B8'}], 'href': 'https://landsat-pds.s3.amazonaws.com/c1/L8/107/018/LC08_L1TP_107018_20181001_20181001_01_RT/LC08_L1TP_107018_20181001_20181001_01_RT_B8.TIF', 'plots': {'geotiff': {'cmap': 'viridis', 'data_aspect': 1, 'dynamic': True, 'frame_width': 500, 'kind': 'image', 'rasterize': True, 'x': 'x', 'y': 'y'}}, 'proj:shape': [16781, 16621], 'proj:transform': [15, 0, 224992.5, 0, -15, 6790207.5, 0, 0, 1], 'title': 'Band 8 (panchromatic)', 'type': 'image/tiff; application=geotiff'}}}}}})"
     ]
    }
   ],
   "source": [
    "# Try to get both B1 and B8 in same YAML\n",
    "b8data = b8._yaml()\n",
    "l4data = l3data.copy()\n",
    "l4data['stac_asset'] = b8data\n",
    "\n",
    "#l4data = {'metadata':{'version':1}, 'sources':{}}\n",
    "#for key, source in l3.items():\n",
    "#    l4data['sources'][key] = source._yaml()['sources']\n",
    "\n",
    "with open('l4test.yaml', 'w') as f:\n",
    "    f.write(yaml.dump(l4data))\n",
    "\n",
    "l4catalog = intake.open_catalog('l4test.yaml') #Validation Error can't find `driver`"
   ]
  },
  {
   "cell_type": "code",
   "execution_count": null,
   "metadata": {},
   "outputs": [],
   "source": [
    "## Go up one level to `stac_cat['extensions-collection']['proj-example']` \n",
    "#print(l3.yaml()) # Contains the problematic typing `&id001 !!python/object:pystac.item.Item` throughout\n",
    "#print(l3.serialize()) # Contains the problematic typing `&id001 !!python/object:pystac.item.Item` throughout"
   ]
  },
  {
   "cell_type": "code",
   "execution_count": 4,
   "metadata": {},
   "outputs": [],
   "source": [
    "kwargs = l3._captured_init_kwargs.copy()\n",
    "meta = kwargs.pop('metadata', l3.metadata) or {}\n",
    "stac_obj = kwargs.pop('stac_obj') # Remove this arg that maps to the problematic typing and see if works\n",
    "kwargs.update(dict(zip(inspect.signature(l3.__init__).parameters,\n",
    "                l3._captured_init_args)))\n",
    "\n",
    "l3data = {\n",
    "    'driver': l3.classname,\n",
    "    'description': l3.description,\n",
    "    'metadata': l3.metadata,\n",
    "    'args': kwargs\n",
    "        }\n",
    "\n",
    "l3dict = {\n",
    "    'sources':\n",
    "        {l3.name: l3data}\n",
    "        }\n",
    "\n",
    "with open('l3test.yaml', 'w') as f:\n",
    "    f.write(yaml.dump(l3dict, sort_keys=False)) #Can be read in!"
   ]
  },
  {
   "cell_type": "code",
   "execution_count": 12,
   "metadata": {},
   "outputs": [],
   "source": [
    "## Now include the sub catalogs b1 and b8\n",
    "\n",
    "data = {'metadata':{'version':1}, 'sources':{}}\n",
    "data['sources'][l3.name]=l3data\n",
    "\n",
    "for key, source in l3.items():\n",
    "    data['sources'][l3.name]['args']['stac_obj']['assets'][key] = source._yaml()['sources']\n",
    "\n",
    "#print(yaml.dump(data, sort_keys=False))\n",
    "\n",
    "with open('test.yaml', 'w') as f:\n",
    "    f.write(yaml.dump(data, sort_keys=False))"
   ]
  },
  {
   "cell_type": "markdown",
   "metadata": {},
   "source": [
    "# Full Circle: Load Intake Catalogue from .YAML"
   ]
  },
  {
   "cell_type": "code",
   "execution_count": 15,
   "metadata": {},
   "outputs": [
    {
     "data": {
      "text/plain": "['proj-example']"
     },
     "execution_count": 15,
     "metadata": {},
     "output_type": "execute_result"
    }
   ],
   "source": [
    "catalog2 = intake.open_catalog('test.yaml')\n",
    "list(catalog2)"
   ]
  },
  {
   "cell_type": "code",
   "execution_count": null,
   "metadata": {},
   "outputs": [],
   "source": [
    "catalog2['proj-example'] #Type Error missing `stac_obj` - the key that I popped, so perhaps I did something taboo\n",
    "#When I add this in like \n",
    "# sources:\n",
    "#   proj-example:\n",
    "#     stac_obj:\n",
    "#       driver: intake_stac.catalog.StacItem\n",
    "# I get a missing required key `driver` Validation Error"
   ]
  }
 ],
 "metadata": {
  "kernelspec": {
   "display_name": "Python 3.9.6 64-bit ('xstac_test': conda)",
   "name": "python396jvsc74a57bd032373ff6b197edf053ae54d25dbb90abc8dafd244d9a029fd20ef0e7aeef20bd"
  },
  "language_info": {
   "codemirror_mode": {
    "name": "ipython",
    "version": 3
   },
   "file_extension": ".py",
   "mimetype": "text/x-python",
   "name": "python",
   "nbconvert_exporter": "python",
   "pygments_lexer": "ipython3",
   "version": "3.9.6"
  },
  "orig_nbformat": 3
 },
 "nbformat": 4,
 "nbformat_minor": 2
}