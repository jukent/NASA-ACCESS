{
 "cells": [
  {
   "cell_type": "code",
   "execution_count": 1,
   "metadata": {},
   "outputs": [
    {
     "data": {
      "text/plain": "'0.3.0.post58'"
     },
     "execution_count": 1,
     "metadata": {},
     "output_type": "execute_result"
    }
   ],
   "source": [
    "import intake\n",
    "import satstac\n",
    "import yaml\n",
    "import inspect\n",
    "import intake_xarray\n",
    "import intake_stac\n",
    "intake_stac.__version__"
   ]
  },
  {
   "cell_type": "markdown",
   "metadata": {},
   "source": [
    "# Load an Intake Catalog, Grab a Single Asset"
   ]
  },
  {
   "cell_type": "code",
   "execution_count": 2,
   "metadata": {},
   "outputs": [
    {
     "name": "stdout",
     "output_type": "stream",
     "text": [
      "['extensions-collection', 'sentinel-2', 'CS3-20160503_132131_08']\n",
      "['proj-example']\n",
      "['B1', 'B8']\n"
     ]
    }
   ],
   "source": [
    "url = 'https://raw.githubusercontent.com/radiantearth/stac-spec/master/examples/catalog.json'\n",
    "stac_cat = intake.open_stac_catalog(url)\n",
    "\n",
    "l1 = stac_cat\n",
    "l2 = stac_cat['extensions-collection']\n",
    "l3 = stac_cat['extensions-collection']['proj-example']\n",
    "\n",
    "print(list(l1))\n",
    "print(list(l2))\n",
    "print(list(l3))"
   ]
  },
  {
   "cell_type": "code",
   "execution_count": 3,
   "metadata": {},
   "outputs": [
    {
     "name": "stdout",
     "output_type": "stream",
     "text": [
      "<class 'intake_xarray.raster.RasterIOSource'>\n",
      "sources:\n",
      "  stac_asset:\n",
      "    args:\n",
      "      chunks: {}\n",
      "      urlpath: https://landsat-pds.s3.amazonaws.com/c1/L8/107/018/LC08_L1TP_107018_20181001_20181001_01_RT/LC08_L1TP_107018_20181001_20181001_01_RT_B1.TIF\n",
      "    description: Band 1 (coastal)\n",
      "    driver: intake_xarray.raster.RasterIOSource\n",
      "    metadata:\n",
      "      catalog_dir: ''\n",
      "      eo:bands:\n",
      "      - center_wavelength: 0.44\n",
      "        common_name: coastal\n",
      "        full_width_half_max: 0.02\n",
      "        name: B1\n",
      "      href: https://landsat-pds.s3.amazonaws.com/c1/L8/107/018/LC08_L1TP_107018_20181001_20181001_01_RT/LC08_L1TP_107018_20181001_20181001_01_RT_B1.TIF\n",
      "      plots:\n",
      "        geotiff:\n",
      "          cmap: viridis\n",
      "          data_aspect: 1\n",
      "          dynamic: true\n",
      "          frame_width: 500\n",
      "          kind: image\n",
      "          rasterize: true\n",
      "          x: x\n",
      "          y: y\n",
      "      title: Band 1 (coastal)\n",
      "      type: image/tiff; application=geotiff\n",
      "\n"
     ]
    }
   ],
   "source": [
    "b1 = stac_cat['extensions-collection']['proj-example']['B1']\n",
    "b8 = stac_cat['extensions-collection']['proj-example']['B8']\n",
    "\n",
    "print(type(b1))\n",
    "print(b1)"
   ]
  },
  {
   "cell_type": "markdown",
   "metadata": {},
   "source": [
    "# Serialize as a .YAML file"
   ]
  },
  {
   "cell_type": "markdown",
   "metadata": {},
   "source": [
    "[Intake _yaml code](https://github.com/intake/intake/blob/471488801bfa338dbfd91f9851b27580f4f3c3bb/intake/source/base.py#L242-L265)\n",
    "\n",
    "``` python\n",
    "def _yaml(self):\n",
    "    import inspect\n",
    "    kwargs = self._captured_init_kwargs.copy()\n",
    "    meta = kwargs.pop('metadata', self.metadata) or {}\n",
    "    kwargs.update(dict(zip(inspect.signature(self.__init__).parameters,\n",
    "                       self._captured_init_args)))\n",
    "    data = {\n",
    "        'sources':\n",
    "            {self.name: {\n",
    "                'driver': self.classname,\n",
    "                'description': self.description or \"\",\n",
    "                'metadata': meta,\n",
    "                'args': kwargs\n",
    "            }}}\n",
    "    return data\n",
    "\n",
    "def yaml(self):\n",
    "    \"\"\"Return YAML representation of this data-source\n",
    "    The output may be roughly appropriate for inclusion in a YAML\n",
    "    catalog. This is a best-effort implementation\n",
    "    \"\"\"\n",
    "    data = self._yaml()\n",
    "    return yaml.dump(data, default_flow_style=False)\n",
    "```"
   ]
  },
  {
   "cell_type": "code",
   "execution_count": 4,
   "metadata": {},
   "outputs": [
    {
     "data": {
      "text/plain": "{'sources': {'stac_asset': {'driver': 'intake_xarray.raster.RasterIOSource',\n   'description': 'Band 1 (coastal)',\n   'metadata': {'href': 'https://landsat-pds.s3.amazonaws.com/c1/L8/107/018/LC08_L1TP_107018_20181001_20181001_01_RT/LC08_L1TP_107018_20181001_20181001_01_RT_B1.TIF',\n    'type': 'image/tiff; application=geotiff',\n    'title': 'Band 1 (coastal)',\n    'eo:bands': [{'name': 'B1',\n      'common_name': 'coastal',\n      'center_wavelength': 0.44,\n      'full_width_half_max': 0.02}],\n    'plots': {'geotiff': {'kind': 'image',\n      'x': 'x',\n      'y': 'y',\n      'frame_width': 500,\n      'data_aspect': 1,\n      'rasterize': True,\n      'dynamic': True,\n      'cmap': 'viridis'}},\n    'catalog_dir': ''},\n   'args': {'urlpath': 'https://landsat-pds.s3.amazonaws.com/c1/L8/107/018/LC08_L1TP_107018_20181001_20181001_01_RT/LC08_L1TP_107018_20181001_20181001_01_RT_B1.TIF',\n    'chunks': {}}}}}"
     },
     "execution_count": 4,
     "metadata": {},
     "output_type": "execute_result"
    }
   ],
   "source": [
    "b1._yaml() # For datasources the existing yaml implimentation works."
   ]
  },
  {
   "cell_type": "code",
   "execution_count": 5,
   "metadata": {},
   "outputs": [],
   "source": [
    "## Go up one level to `stac_cat['extensions-collection']['proj-example']` \n",
    "#print(l3.yaml()) # Contains the problematic typing `&id001 !!python/object:pystac.item.Item` throughout\n",
    "#print(l3.serialize()) # Contains the problematic typing `&id001 !!python/object:pystac.item.Item` throughout\n",
    "\n",
    "kwargs = l3._captured_init_kwargs.copy()\n",
    "meta = kwargs.pop('metadata', l3.metadata) or {}\n",
    "#print(kwargs)\n",
    "kwargs.pop('stac_obj') # Remove this arg that maps to the problematic typing and see if works\n",
    "kwargs.update(dict(zip(inspect.signature(l3.__init__).parameters,\n",
    "                l3._captured_init_args)))\n",
    "\n",
    "l3data = {\n",
    "    'driver': l3.classname,\n",
    "    'description': l3.description,\n",
    "    'metadata': l3.metadata,\n",
    "    'args': kwargs\n",
    "        }\n",
    "\n",
    "l3dict = {\n",
    "    'sources':\n",
    "        {l3.name: l3data}\n",
    "        }\n",
    "\n",
    "with open('l3test.yaml', 'w') as f:\n",
    "    f.write(yaml.dump(l3dict, sort_keys=False)) #Can be read in!"
   ]
  },
  {
   "cell_type": "code",
   "execution_count": 6,
   "metadata": {},
   "outputs": [],
   "source": [
    "## Now include the sub catalogs b1 and b8\n",
    "\n",
    "data = {'metadata':{'version':1}, 'sources':{}}\n",
    "data['sources'][l3.name]=l3data\n",
    "\n",
    "for key, source in l3.items():\n",
    "    data['sources'][l3.name][key] = source._yaml()['sources']\n",
    "\n",
    "# Should B1 and B8 be on the same level as proj-example? \n",
    "# Maybe remove the key 'stac_asset' but keep all the content?"
   ]
  },
  {
   "cell_type": "code",
   "execution_count": 7,
   "metadata": {},
   "outputs": [
    {
     "name": "stdout",
     "output_type": "stream",
     "text": [
      "metadata:\n",
      "  version: 1\n",
      "sources:\n",
      "  proj-example:\n",
      "    driver: intake_stac.catalog.StacItem\n",
      "    description: ''\n",
      "    metadata:\n",
      "      datetime: 2018-10-01 01:08:32.033000+00:00\n",
      "      proj:epsg: 32614\n",
      "      proj:wkt2: PROJCS[\"WGS 84 / UTM zone 14N\",GEOGCS[\"WGS 84\",DATUM[\"WGS_1984\",SPHEROID[\"WGS\n",
      "        84\",6378137,298.257223563,AUTHORITY[\"EPSG\",\"7030\"]],AUTHORITY[\"EPSG\",\"6326\"]],PRIMEM[\"Greenwich\",0,AUTHORITY[\"EPSG\",\"8901\"]],UNIT[\"degree\",0.01745329251994328,AUTHORITY[\"EPSG\",\"9122\"]],AUTHORITY[\"EPSG\",\"4326\"]],UNIT[\"metre\",1,AUTHORITY[\"EPSG\",\"9001\"]],PROJECTION[\"Transverse_Mercator\"],PARAMETER[\"latitude_of_origin\",0],PARAMETER[\"central_meridian\",-99],PARAMETER[\"scale_factor\",0.9996],PARAMETER[\"false_easting\",500000],PARAMETER[\"false_northing\",0],AUTHORITY[\"EPSG\",\"32614\"],AXIS[\"Easting\",EAST],AXIS[\"Northing\",NORTH]]\n",
      "      proj:projjson:\n",
      "        $schema: https://proj.org/schemas/v0.2/projjson.schema.json\n",
      "        type: ProjectedCRS\n",
      "        name: WGS 84 / UTM zone 14N\n",
      "        base_crs:\n",
      "          name: WGS 84\n",
      "          datum:\n",
      "            type: GeodeticReferenceFrame\n",
      "            name: World Geodetic System 1984\n",
      "            ellipsoid:\n",
      "              name: WGS 84\n",
      "              semi_major_axis: 6378137\n",
      "              inverse_flattening: 298.257223563\n",
      "          coordinate_system:\n",
      "            subtype: ellipsoidal\n",
      "            axis:\n",
      "            - name: Geodetic latitude\n",
      "              abbreviation: Lat\n",
      "              direction: north\n",
      "              unit: degree\n",
      "            - name: Geodetic longitude\n",
      "              abbreviation: Lon\n",
      "              direction: east\n",
      "              unit: degree\n",
      "          id:\n",
      "            authority: EPSG\n",
      "            code: 4326\n",
      "        conversion:\n",
      "          name: UTM zone 14N\n",
      "          method:\n",
      "            name: Transverse Mercator\n",
      "            id:\n",
      "              authority: EPSG\n",
      "              code: 9807\n",
      "          parameters:\n",
      "          - name: Latitude of natural origin\n",
      "            value: 0\n",
      "            unit: degree\n",
      "            id:\n",
      "              authority: EPSG\n",
      "              code: 8801\n",
      "          - name: Longitude of natural origin\n",
      "            value: -99\n",
      "            unit: degree\n",
      "            id:\n",
      "              authority: EPSG\n",
      "              code: 8802\n",
      "          - name: Scale factor at natural origin\n",
      "            value: 0.9996\n",
      "            unit: unity\n",
      "            id:\n",
      "              authority: EPSG\n",
      "              code: 8805\n",
      "          - name: False easting\n",
      "            value: 500000\n",
      "            unit: metre\n",
      "            id:\n",
      "              authority: EPSG\n",
      "              code: 8806\n",
      "          - name: False northing\n",
      "            value: 0\n",
      "            unit: metre\n",
      "            id:\n",
      "              authority: EPSG\n",
      "              code: 8807\n",
      "        coordinate_system:\n",
      "          subtype: Cartesian\n",
      "          axis:\n",
      "          - name: Easting\n",
      "            abbreviation: E\n",
      "            direction: east\n",
      "            unit: metre\n",
      "          - name: Northing\n",
      "            abbreviation: N\n",
      "            direction: north\n",
      "            unit: metre\n",
      "        area: \"World - N hemisphere - 102\\xB0W to 96\\xB0W - by country\"\n",
      "        bbox:\n",
      "          south_latitude: 0\n",
      "          west_longitude: -102\n",
      "          north_latitude: 84\n",
      "          east_longitude: -96\n",
      "        id:\n",
      "          authority: EPSG\n",
      "          code: 32614\n",
      "      proj:geometry:\n",
      "        coordinates:\n",
      "        - - - 169200\n",
      "            - 3712800\n",
      "          - - 403200\n",
      "            - 3712800\n",
      "          - - 403200\n",
      "            - 3951000\n",
      "          - - 169200\n",
      "            - 3951000\n",
      "          - - 169200\n",
      "            - 3712800\n",
      "        type: Polygon\n",
      "      proj:bbox:\n",
      "      - 169200\n",
      "      - 3712800\n",
      "      - 403200\n",
      "      - 3951000\n",
      "      proj:centroid:\n",
      "        lat: 34.595302781575604\n",
      "        lon: -101.34448382627504\n",
      "      proj:shape:\n",
      "      - 8391\n",
      "      - 8311\n",
      "      proj:transform:\n",
      "      - 30\n",
      "      - 0\n",
      "      - 224985\n",
      "      - 0\n",
      "      - -30\n",
      "      - 6790215\n",
      "      - 0\n",
      "      - 0\n",
      "      - 1\n",
      "      bbox:\n",
      "      - 148.13933\n",
      "      - 59.51584\n",
      "      - 152.52758\n",
      "      - 60.63437\n",
      "      geometry:\n",
      "        type: Polygon\n",
      "        coordinates:\n",
      "        - - - 152.52758\n",
      "            - 60.63437\n",
      "          - - 149.1755\n",
      "            - 61.19016\n",
      "          - - 148.13933\n",
      "            - 59.51584\n",
      "          - - 151.33786\n",
      "            - 58.97792\n",
      "          - - 152.52758\n",
      "            - 60.63437\n",
      "      date: null\n",
      "      catalog_dir: ''\n",
      "    args:\n",
      "      name: proj-example\n",
      "    B1:\n",
      "      stac_asset:\n",
      "        driver: intake_xarray.raster.RasterIOSource\n",
      "        description: Band 1 (coastal)\n",
      "        metadata:\n",
      "          href: https://landsat-pds.s3.amazonaws.com/c1/L8/107/018/LC08_L1TP_107018_20181001_20181001_01_RT/LC08_L1TP_107018_20181001_20181001_01_RT_B1.TIF\n",
      "          type: image/tiff; application=geotiff\n",
      "          title: Band 1 (coastal)\n",
      "          eo:bands:\n",
      "          - name: B1\n",
      "            common_name: coastal\n",
      "            center_wavelength: 0.44\n",
      "            full_width_half_max: 0.02\n",
      "          plots:\n",
      "            geotiff:\n",
      "              kind: image\n",
      "              x: x\n",
      "              y: y\n",
      "              frame_width: 500\n",
      "              data_aspect: 1\n",
      "              rasterize: true\n",
      "              dynamic: true\n",
      "              cmap: viridis\n",
      "          catalog_dir: ''\n",
      "        args:\n",
      "          urlpath: https://landsat-pds.s3.amazonaws.com/c1/L8/107/018/LC08_L1TP_107018_20181001_20181001_01_RT/LC08_L1TP_107018_20181001_20181001_01_RT_B1.TIF\n",
      "          chunks: {}\n",
      "    B8:\n",
      "      stac_asset:\n",
      "        driver: intake_xarray.raster.RasterIOSource\n",
      "        description: Band 8 (panchromatic)\n",
      "        metadata:\n",
      "          href: https://landsat-pds.s3.amazonaws.com/c1/L8/107/018/LC08_L1TP_107018_20181001_20181001_01_RT/LC08_L1TP_107018_20181001_20181001_01_RT_B8.TIF\n",
      "          type: image/tiff; application=geotiff\n",
      "          title: Band 8 (panchromatic)\n",
      "          eo:bands:\n",
      "          - name: B8\n",
      "            center_wavelength: 0.59\n",
      "            full_width_half_max: 0.18\n",
      "          proj:shape:\n",
      "          - 16781\n",
      "          - 16621\n",
      "          proj:transform:\n",
      "          - 15\n",
      "          - 0\n",
      "          - 224992.5\n",
      "          - 0\n",
      "          - -15\n",
      "          - 6790207.5\n",
      "          - 0\n",
      "          - 0\n",
      "          - 1\n",
      "          plots:\n",
      "            geotiff:\n",
      "              kind: image\n",
      "              x: x\n",
      "              y: y\n",
      "              frame_width: 500\n",
      "              data_aspect: 1\n",
      "              rasterize: true\n",
      "              dynamic: true\n",
      "              cmap: viridis\n",
      "          catalog_dir: ''\n",
      "        args:\n",
      "          urlpath: https://landsat-pds.s3.amazonaws.com/c1/L8/107/018/LC08_L1TP_107018_20181001_20181001_01_RT/LC08_L1TP_107018_20181001_20181001_01_RT_B8.TIF\n",
      "          chunks: {}\n",
      "\n"
     ]
    }
   ],
   "source": [
    "print(yaml.dump(data, sort_keys=False))"
   ]
  },
  {
   "cell_type": "code",
   "execution_count": 8,
   "metadata": {},
   "outputs": [],
   "source": [
    "with open('test.yaml', 'w') as f:\n",
    "    f.write(yaml.dump(data, sort_keys=False))"
   ]
  },
  {
   "cell_type": "markdown",
   "metadata": {},
   "source": [
    "# Full Circle: Load Intake Catalogue from .YAML"
   ]
  },
  {
   "cell_type": "code",
   "execution_count": 16,
   "metadata": {},
   "outputs": [
    {
     "data": {
      "text/plain": "['proj-example']"
     },
     "execution_count": 16,
     "metadata": {},
     "output_type": "execute_result"
    }
   ],
   "source": [
    "catalog2 = intake.open_catalog('test.yaml')\n",
    "list(catalog2)"
   ]
  },
  {
   "cell_type": "code",
   "execution_count": null,
   "metadata": {},
   "outputs": [],
   "source": [
    "catalog2['proj-example'] #Type Error missing `stac_obj` - the key that I popped, so perhaps I did something taboo"
   ]
  }
 ],
 "metadata": {
  "kernelspec": {
   "display_name": "Python 3.9.6 64-bit ('xstac_test': conda)",
   "name": "python396jvsc74a57bd032373ff6b197edf053ae54d25dbb90abc8dafd244d9a029fd20ef0e7aeef20bd"
  },
  "language_info": {
   "codemirror_mode": {
    "name": "ipython",
    "version": 3
   },
   "file_extension": ".py",
   "mimetype": "text/x-python",
   "name": "python",
   "nbconvert_exporter": "python",
   "pygments_lexer": "ipython3",
   "version": "3.9.6"
  },
  "orig_nbformat": 3
 },
 "nbformat": 4,
 "nbformat_minor": 2
}