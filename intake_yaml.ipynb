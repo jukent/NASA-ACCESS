{
 "cells": [
  {
   "cell_type": "code",
   "execution_count": 1,
   "metadata": {},
   "outputs": [
    {
     "data": {
      "text/plain": "'0.3.0.post58'"
     },
     "execution_count": 1,
     "metadata": {},
     "output_type": "execute_result"
    }
   ],
   "source": [
    "import intake\n",
    "import satstac\n",
    "import yaml\n",
    "import inspect\n",
    "import intake_xarray\n",
    "import intake_stac\n",
    "intake_stac.__version__"
   ]
  },
  {
   "cell_type": "markdown",
   "metadata": {},
   "source": [
    "# Load an Intake Catalog"
   ]
  },
  {
   "cell_type": "code",
   "execution_count": 8,
   "metadata": {},
   "outputs": [
    {
     "name": "stdout",
     "output_type": "stream",
     "text": [
      "<class 'intake_stac.catalog.StacCatalog'>\n",
      "<class 'intake_stac.catalog.StacCollection'>\n",
      "<class 'intake_stac.catalog.StacItem'>\n"
     ]
    }
   ],
   "source": [
    "url = 'https://raw.githubusercontent.com/radiantearth/stac-spec/master/examples/catalog.json'\n",
    "stac_cat = intake.open_stac_catalog(url)\n",
    "\n",
    "l1 = stac_cat\n",
    "l2 = stac_cat['extensions-collection']\n",
    "l3 = stac_cat['extensions-collection']['proj-example']\n",
    "\n",
    "print(type(l1))\n",
    "print(type(l2))\n",
    "print(type(l3))"
   ]
  },
  {
   "cell_type": "code",
   "execution_count": 9,
   "metadata": {},
   "outputs": [
    {
     "name": "stdout",
     "output_type": "stream",
     "text": [
      "<class 'intake_xarray.raster.RasterIOSource'>\n"
     ]
    }
   ],
   "source": [
    "b1 = stac_cat['extensions-collection']['proj-example']['B1']\n",
    "b8 = stac_cat['extensions-collection']['proj-example']['B8']\n",
    "\n",
    "print(type(b1))\n",
    "#print(b1)"
   ]
  },
  {
   "cell_type": "markdown",
   "metadata": {},
   "source": [
    "# Serialize a Single Asset as a .YAML file - Done"
   ]
  },
  {
   "cell_type": "code",
   "execution_count": 4,
   "metadata": {},
   "outputs": [],
   "source": [
    "b1data = b1._yaml() # For datasources the existing yaml implimentation works.\n",
    "b1data['metadata'] = {'version':1}\n",
    "\n",
    "## Confirm that I can save and load this yaml\n",
    "with open('b1.yaml', 'w') as f:\n",
    "    f.write(yaml.dump(b1data))\n",
    "\n",
    "b1cat = intake.open_catalog('b1.yaml')\n",
    "#list(b1cat)\n",
    "#b1cat['stac_asset'] #Works!"
   ]
  },
  {
   "cell_type": "code",
   "execution_count": 6,
   "metadata": {},
   "outputs": [],
   "source": [
    "b8data = b8._yaml() # For datasources the existing yaml implimentation works.\n",
    "b8data['metadata'] = {'version':1}\n",
    "\n",
    "## Confirm that I can save and load this yaml\n",
    "with open('b8.yaml', 'w') as f:\n",
    "    f.write(yaml.dump(b8data))\n",
    "\n",
    "b8cat = intake.open_catalog('b8.yaml')\n",
    "#list(b8cat)\n",
    "#b8cat['stac_asset'] #Works!"
   ]
  },
  {
   "cell_type": "markdown",
   "metadata": {},
   "source": [
    "# Serialize 2 Assets as a .YAML file - Done"
   ]
  },
  {
   "cell_type": "code",
   "execution_count": null,
   "metadata": {},
   "outputs": [],
   "source": [
    "## Try to get both B1 and B8 in same YAML in an automated way\n",
    "\n",
    "l3data = {'metadata':{'version':1}, 'sources':{}}\n",
    "l3data['metadata'].update(l3.metadata)\n",
    "\n",
    "for key, source in l3.items():\n",
    "    l3data['sources'][key] = source._yaml()['sources']['stac_asset']\n",
    "\n",
    "with open('l3.yaml', 'w') as f:\n",
    "    f.write(yaml.dump(l3data))\n",
    "\n",
    "l3catalog = intake.open_catalog('l3.yaml')\n",
    "#list(l3catalog)\n",
    "l3catalog"
   ]
  },
  {
   "cell_type": "markdown",
   "metadata": {},
   "source": [
    "# Testing"
   ]
  },
  {
   "cell_type": "markdown",
   "metadata": {},
   "source": [
    "Code from the tests\n",
    "\n",
    "```python\n",
    "import pytest\n",
    "\n",
    "class TestDrivers:\n",
    "    def test_cat_item_yaml(self, pystac_item):\n",
    "        cat_str = StacItem(pystac_item).yaml()\n",
    "        d = yaml.load(cat_str)\n",
    "\n",
    "        for key in ['bbox','date','datetime','geometry','version']:\n",
    "            assert key in d['metadata']\n",
    "        for key in ['B02','B03']:\n",
    "            assert key in d['sources']\n",
    "\n",
    "    def test_cat_item_yaml_roundtrip(self, pystac_item, tmp_path):\n",
    "        cat1 = StacItem(pystac_item)\n",
    "        cat_str = cat1.yaml()\n",
    "\n",
    "        temp_file = tmp_path/'temp.yaml'\n",
    "        with open(temp_file, 'w') as f:\n",
    "            f.write(cat_str)\n",
    "\n",
    "        cat2 = intake.open_catalog(temp_file)\n",
    "\n",
    "        for key in ['B02','B03']:\n",
    "            assert key in cat2\n",
    "            \n",
    "        assert cat1.walk() == cat2.walk(), print(cat1) # This one fails!\n",
    "```"
   ]
  },
  {
   "cell_type": "code",
   "execution_count": null,
   "metadata": {},
   "outputs": [],
   "source": [
    "#print(l3.walk()) # The original StackObject (direct_access: True)\n",
    "#print(l3catalog.walk()) # The new StackObject from our generated YAML (direct_access: forbid)"
   ]
  },
  {
   "cell_type": "code",
   "execution_count": 127,
   "metadata": {},
   "outputs": [
    {
     "data": {
      "text/plain": "True"
     },
     "execution_count": 127,
     "metadata": {},
     "output_type": "execute_result"
    }
   ],
   "source": [
    "#l3.walk()['B1'].describe()['direct_access'] # True\n",
    "#l3catalog.walk()['B1'].describe()['direct_access'] # 'forbid'\n",
    "b1.describe()['direct_access'] # True"
   ]
  }
 ],
 "metadata": {
  "kernelspec": {
   "display_name": "Python 3.9.6 64-bit ('xstac_test': conda)",
   "name": "python396jvsc74a57bd032373ff6b197edf053ae54d25dbb90abc8dafd244d9a029fd20ef0e7aeef20bd"
  },
  "language_info": {
   "codemirror_mode": {
    "name": "ipython",
    "version": 3
   },
   "file_extension": ".py",
   "mimetype": "text/x-python",
   "name": "python",
   "nbconvert_exporter": "python",
   "pygments_lexer": "ipython3",
   "version": "3.9.6"
  },
  "orig_nbformat": 3
 },
 "nbformat": 4,
 "nbformat_minor": 2
}