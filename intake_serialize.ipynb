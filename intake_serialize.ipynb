{
 "cells": [
  {
   "cell_type": "code",
   "execution_count": 1,
   "metadata": {},
   "outputs": [],
   "source": [
    "import intake\n",
    "import satstac\n",
    "import yaml"
   ]
  },
  {
   "cell_type": "markdown",
   "metadata": {},
   "source": [
    "# Load an Intake Catalog"
   ]
  },
  {
   "cell_type": "code",
   "execution_count": 2,
   "metadata": {},
   "outputs": [
    {
     "data": {
      "text/plain": "['hurricane-harvey']"
     },
     "execution_count": 2,
     "metadata": {},
     "output_type": "execute_result"
    }
   ],
   "source": [
    "url = 'https://raw.githubusercontent.com/cholmes/sample-stac/master/stac/catalog.json'\n",
    "catalog = intake.open_stac_catalog(url)\n",
    "\n",
    "list(catalog)"
   ]
  },
  {
   "cell_type": "markdown",
   "metadata": {},
   "source": [
    "# Pull out an asset into a Stac-Catalog Object"
   ]
  },
  {
   "cell_type": "code",
   "execution_count": 3,
   "metadata": {},
   "outputs": [
    {
     "name": "stdout",
     "output_type": "stream",
     "text": [
      "<Intake catalog: stac-catalog>\n"
     ]
    }
   ],
   "source": [
    "root_url = 'https://raw.githubusercontent.com/sat-utils/sat-stac/master/test/catalog'\n",
    "\n",
    "col = satstac.Collection.open(f'{root_url}/catalog.json')\n",
    "stac_cat = intake.open_stac_collection(col)\n",
    "\n",
    "print(stac_cat)"
   ]
  },
  {
   "cell_type": "markdown",
   "metadata": {},
   "source": [
    "# Serialize as a .YAML file"
   ]
  },
  {
   "cell_type": "code",
   "execution_count": 4,
   "metadata": {},
   "outputs": [],
   "source": [
    "#stac_cat.walk(depth=10) # Works! type dict\n",
    "#stac_cat.walk(depth=10).serialize() # Attribute Error, no attribute `serialize`\n",
    "#stac_cat.yaml() # Works! type str\n",
    "#stac_cat.yaml(depth=1) # Type Error, unexpected keyword `depth`"
   ]
  },
  {
   "cell_type": "code",
   "execution_count": 4,
   "metadata": {},
   "outputs": [
    {
     "data": {
      "text/plain": "\"LC08_L1TP_152038_20200611_20200611_01_RT: !!python/object:intake.catalog.local.LocalCatalogEntry\\n  args: []\\n  cls: intake.catalog.local.LocalCatalogEntry\\n  kwargs:\\n    name: LC08_L1TP_152038_20200611_20200611_01_RT\\n    description: ''\\n    driver: &id001 !!python/name:intake_stac.catalog.StacItem ''\\n    catalog:\\n      cls: intake_stac.catalog.StacCollection\\n      args:\\n      - &id002 !!python/object:satstac.collection.Collection\\n        _data:\\n          description: An example STAC catalog\\n          id: stac-catalog\\n          links:\\n          - href: catalog.json\\n            rel: self\\n          - href: catalog.json\\n            rel: root\\n          - href: eo/catalog.json\\n            rel: child\\n          stac_version: 1.0.0-beta.1\\n        filename: https://raw.githubusercontent.com/sat-utils/sat-stac/master/test/catalog/catalog.json\\n      kwargs: {}\\n    args:\\n      stac_obj: https://raw.githubusercontent.com/sat-utils/sat-stac/master/test/catalog/eo/landsat-8-l1/item.json\\nS2B_25WFU_20200610_0_L1C: !!python/object:intake.catalog.local.LocalCatalogEntry\\n  args: []\\n  cls: intake.catalog.local.LocalCatalogEntry\\n  kwargs:\\n    name: S2B_25WFU_20200610_0_L1C\\n    description: ''\\n    driver: *id001\\n    catalog:\\n      cls: intake_stac.catalog.StacCollection\\n      args:\\n      - *id002\\n      kwargs: {}\\n    args:\\n      stac_obj: https://raw.githubusercontent.com/sat-utils/sat-stac/master/test/catalog/eo/sentinel-2-l1c/sentinel-2a/item.json\\n\""
     },
     "execution_count": 4,
     "metadata": {},
     "output_type": "execute_result"
    }
   ],
   "source": [
    "yaml.dump(stac_cat.walk(depth=1))"
   ]
  },
  {
   "cell_type": "code",
   "execution_count": 6,
   "metadata": {},
   "outputs": [],
   "source": [
    "with open('test.yaml', 'w') as f:\n",
    "    f.write(yaml.dump(stac_cat.walk(depth=10)))"
   ]
  },
  {
   "cell_type": "markdown",
   "metadata": {},
   "source": [
    "# Full Circle: Load Intake Catalogue from .YAML"
   ]
  },
  {
   "cell_type": "code",
   "execution_count": 12,
   "metadata": {},
   "outputs": [],
   "source": [
    "#catalog2 = intake.open_catalog('test.yaml') # Constructor Error\n",
    "#catalog2 = intake.open_yaml_file_cat('test.yaml') # Constructor Error"
   ]
  },
  {
   "cell_type": "code",
   "execution_count": null,
   "metadata": {},
   "outputs": [],
   "source": []
  }
 ],
 "metadata": {
  "kernelspec": {
   "display_name": "Python 3.9.6 64-bit ('xstac_test': conda)",
   "name": "python396jvsc74a57bd032373ff6b197edf053ae54d25dbb90abc8dafd244d9a029fd20ef0e7aeef20bd"
  },
  "language_info": {
   "codemirror_mode": {
    "name": "ipython",
    "version": 3
   },
   "file_extension": ".py",
   "mimetype": "text/x-python",
   "name": "python",
   "nbconvert_exporter": "python",
   "pygments_lexer": "ipython3",
   "version": "3.9.6"
  },
  "orig_nbformat": 3
 },
 "nbformat": 4,
 "nbformat_minor": 2
}