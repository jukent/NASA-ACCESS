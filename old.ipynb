{
 "cells": [
  {
   "cell_type": "code",
   "execution_count": 18,
   "metadata": {},
   "outputs": [
    {
     "data": {
      "text/plain": "'0.3.0.post58'"
     },
     "execution_count": 18,
     "metadata": {},
     "output_type": "execute_result"
    }
   ],
   "source": [
    "import intake\n",
    "import satstac\n",
    "import yaml\n",
    "\n",
    "import intake_stac\n",
    "intake_stac.__version__"
   ]
  },
  {
   "cell_type": "markdown",
   "metadata": {},
   "source": [
    "# Load an Intake Catalog"
   ]
  },
  {
   "cell_type": "code",
   "execution_count": 60,
   "metadata": {},
   "outputs": [
    {
     "data": {
      "text/plain": "['proj-example']"
     },
     "execution_count": 60,
     "metadata": {},
     "output_type": "execute_result"
    }
   ],
   "source": [
    "url = 'https://raw.githubusercontent.com/radiantearth/stac-spec/master/examples/catalog.json'\n",
    "#url = 'https://planetarycomputer.microsoft.com/api/stac/v1'\n",
    "#url = 'https://raw.githubusercontent.com/intake/intake-stac/main/intake_stac/tests/data/1.0.0/catalog/catalog.json'\n",
    "stac_cat = intake.open_stac_catalog(url)\n",
    "list(stac_cat['extensions-collection'])"
   ]
  },
  {
   "cell_type": "code",
   "execution_count": 75,
   "metadata": {},
   "outputs": [
    {
     "name": "stdout",
     "output_type": "stream",
     "text": [
      "sources:\n",
      "  stac_asset:\n",
      "    args:\n",
      "      chunks: {}\n",
      "      urlpath: https://landsat-pds.s3.amazonaws.com/c1/L8/107/018/LC08_L1TP_107018_20181001_20181001_01_RT/LC08_L1TP_107018_20181001_20181001_01_RT_B1.TIF\n",
      "    description: Band 1 (coastal)\n",
      "    driver: intake_xarray.raster.RasterIOSource\n",
      "    metadata:\n",
      "      catalog_dir: ''\n",
      "      eo:bands:\n",
      "      - center_wavelength: 0.44\n",
      "        common_name: coastal\n",
      "        full_width_half_max: 0.02\n",
      "        name: B1\n",
      "      href: https://landsat-pds.s3.amazonaws.com/c1/L8/107/018/LC08_L1TP_107018_20181001_20181001_01_RT/LC08_L1TP_107018_20181001_20181001_01_RT_B1.TIF\n",
      "      plots:\n",
      "        geotiff:\n",
      "          cmap: viridis\n",
      "          data_aspect: 1\n",
      "          dynamic: true\n",
      "          frame_width: 500\n",
      "          kind: image\n",
      "          rasterize: true\n",
      "          x: x\n",
      "          y: y\n",
      "      title: Band 1 (coastal)\n",
      "      type: image/tiff; application=geotiff\n",
      "\n"
     ]
    }
   ],
   "source": [
    "a = stac_cat['extensions-collection']['proj-example']['B1']\n",
    "print(a)"
   ]
  },
  {
   "cell_type": "markdown",
   "metadata": {},
   "source": [
    "# Serialize as a .YAML file"
   ]
  },
  {
   "cell_type": "code",
   "execution_count": 32,
   "metadata": {},
   "outputs": [],
   "source": [
    "#stac_cat.walk(depth=2) # Works! type dict\n",
    "#stac_cat.walk(depth=10).serialize() # Attribute Error, no attribute `serialize`\n",
    "\n",
    "#print(stac_cat.yaml()) # Works! type str\n",
    "#stac_cat.yaml(depth=1) # Type Error, unexpected keyword `depth`, this is our target api\n",
    "\n",
    "#print(stac_cat.test.yaml()) # type st\n",
    "#print(stac_cat.test) #type StacCatalog"
   ]
  },
  {
   "cell_type": "code",
   "execution_count": 33,
   "metadata": {},
   "outputs": [],
   "source": [
    "#yaml.dump(stac_cat.walk(depth=2))\n",
    "#print(yaml.dump(stac_cat)) # type str\n",
    "#print(yaml.dump(stac_cat.walk(depth=0))) # type str\n",
    "\n",
    "#Missing source: and shouldn't have !!python/object:intake.catalog.local.LocalCatalogEntry to work"
   ]
  },
  {
   "cell_type": "code",
   "execution_count": 36,
   "metadata": {},
   "outputs": [],
   "source": [
    "with open('test10.yaml', 'w') as f:\n",
    "    f.write(yaml.dump(stac_cat.walk(depth=10)))"
   ]
  },
  {
   "cell_type": "markdown",
   "metadata": {},
   "source": [
    "Code from: https://github.com/intake/intake/blob/471488801bfa338dbfd91f9851b27580f4f3c3bb/intake/source/base.py#L242-L265showing how intake turns its catalogues into a dictionary with very specific keys before into a yaml.\n",
    "\n",
    "```\n",
    "def _yaml(self):\n",
    "    import inspect\n",
    "    kwargs = self._captured_init_kwargs.copy()\n",
    "    meta = kwargs.pop('metadata', self.metadata) or {}\n",
    "    kwargs.update(dict(zip(inspect.signature(self.__init__).parameters,\n",
    "                       self._captured_init_args)))\n",
    "    data = {\n",
    "        'sources':\n",
    "            {self.name: {\n",
    "                'driver': self.classname,\n",
    "                'description': self.description or \"\",\n",
    "                'metadata': meta,\n",
    "                'args': kwargs\n",
    "            }}}\n",
    "    return data\n",
    "\n",
    "def yaml(self):\n",
    "    \"\"\"Return YAML representation of this data-source\n",
    "    The output may be roughly appropriate for inclusion in a YAML\n",
    "    catalog. This is a best-effort implementation\n",
    "    \"\"\"\n",
    "    data = self._yaml()\n",
    "    return yaml.dump(data, default_flow_style=False)\n",
    "```"
   ]
  },
  {
   "cell_type": "code",
   "execution_count": 99,
   "metadata": {},
   "outputs": [],
   "source": [
    "import inspect\n",
    "import intake_xarray\n",
    "kwargs = a._captured_init_kwargs.copy()\n",
    "meta = kwargs.pop('metadata', a.metadata) or {}\n",
    "kwargs.update(dict(zip(inspect.signature(a.__init__).parameters,\n",
    "                a._captured_init_args)))"
   ]
  },
  {
   "cell_type": "code",
   "execution_count": 102,
   "metadata": {},
   "outputs": [
    {
     "data": {
      "text/plain": "'intake_xarray.raster.RasterIOSource'"
     },
     "execution_count": 102,
     "metadata": {},
     "output_type": "execute_result"
    }
   ],
   "source": [
    "a.classname"
   ]
  },
  {
   "cell_type": "code",
   "execution_count": 100,
   "metadata": {},
   "outputs": [],
   "source": [
    "#`a` is a dictionary of `RasterIOSource`s. I can pull out some attributes, but not others. Unsure why.a\n",
    "intake_drivers = [\n",
    "    'netcdf = intake_xarray.netcdf:NetCDFSource',\n",
    "    'zarr = intake_xarray.xzarr:ZarrSource',\n",
    "    'opendap = intake_xarray.opendap:OpenDapSource',\n",
    "    'xarray_image = intake_xarray.image:ImageSource',\n",
    "    'rasterio = intake_xarray.raster:RasterIOSource',\n",
    "    'remote-xarray = intake_xarray.xarray_container:RemoteXarray'\n",
    "]\n",
    "\n",
    "name = a.name\n",
    "\n",
    "driver = a.classname #how to get short one from list?\n",
    "#if isinstance(a, intake_xarray.raster.RasterIOSource):\n",
    "#    driver = 'rasterio' # recreate to get from all drivers.\n",
    "\n",
    "description = a.description #will be branching, different behavior for sub catalog\n",
    "\n",
    "metadata = a.metadata\n",
    "\n",
    "args = kwargs"
   ]
  },
  {
   "cell_type": "code",
   "execution_count": 104,
   "metadata": {},
   "outputs": [
    {
     "data": {
      "text/plain": "{'sources': {'stac_asset': {'driver': 'intake_xarray.raster.RasterIOSource',\n   'description': 'Band 1 (coastal)',\n   'metadata': {'href': 'https://landsat-pds.s3.amazonaws.com/c1/L8/107/018/LC08_L1TP_107018_20181001_20181001_01_RT/LC08_L1TP_107018_20181001_20181001_01_RT_B1.TIF',\n    'type': 'image/tiff; application=geotiff',\n    'title': 'Band 1 (coastal)',\n    'eo:bands': [{'name': 'B1',\n      'common_name': 'coastal',\n      'center_wavelength': 0.44,\n      'full_width_half_max': 0.02}],\n    'plots': {'geotiff': {'kind': 'image',\n      'x': 'x',\n      'y': 'y',\n      'frame_width': 500,\n      'data_aspect': 1,\n      'rasterize': True,\n      'dynamic': True,\n      'cmap': 'viridis'}},\n    'catalog_dir': ''},\n   'args': {'urlpath': 'https://landsat-pds.s3.amazonaws.com/c1/L8/107/018/LC08_L1TP_107018_20181001_20181001_01_RT/LC08_L1TP_107018_20181001_20181001_01_RT_B1.TIF',\n    'chunks': {}}}}}"
     },
     "execution_count": 104,
     "metadata": {},
     "output_type": "execute_result"
    }
   ],
   "source": [
    "a._yaml() #for datasources (end of the branch) existing yaml implimentation works. Go up one level now"
   ]
  },
  {
   "cell_type": "code",
   "execution_count": 95,
   "metadata": {},
   "outputs": [],
   "source": [
    "#I'm trying to recreate the data dictionary from intake.yaml() without the references to self, but since driver can't be accessed it is stuck.\n",
    "\n",
    "#data = {\n",
    "#        'sources':\n",
    "#            {self.name: {\n",
    "#                'driver': self.classname,\n",
    "#                'description': self.description or \"\",\n",
    "#                'metadata': meta,\n",
    "#                'args': kwargs\n",
    "#            }}}\n",
    "\n",
    "data = {\n",
    "    'sources':\n",
    "        {name: {\n",
    "            'driver': driver,\n",
    "            'description': description,\n",
    "            'metadata': metadata,\n",
    "            'args': args\n",
    "            }}}"
   ]
  },
  {
   "cell_type": "markdown",
   "metadata": {},
   "source": [
    "example-catalog:\n",
    "  extensions-collection:\n",
    "    proj-example:\n",
    "      B1:\n",
    "        sources: ...\n",
    "        description: ..."
   ]
  },
  {
   "cell_type": "code",
   "execution_count": null,
   "metadata": {},
   "outputs": [],
   "source": [
    "b = stac_cat['extensions-collection']['proj-example']\n",
    "#b._yaml()\n",
    "print(b.serialize())"
   ]
  },
  {
   "cell_type": "code",
   "execution_count": null,
   "metadata": {},
   "outputs": [],
   "source": [
    "y = {'metadata':{'version':1}, 'sources':{}}\n",
    "for key, source in stac_cat['extensions-collection']['proj-example'].items():\n",
    "    y['sources'][key] = source._yaml()\n",
    "\n",
    "print(yaml.dump(y))\n",
    "#does B1 ever have multiple sources, might not work when loaded because of extra layer of nesting, prune this dict manually"
   ]
  },
  {
   "cell_type": "code",
   "execution_count": null,
   "metadata": {},
   "outputs": [],
   "source": [
    "c =  stac_cat['extensions-collection']\n",
    "c._yaml()"
   ]
  },
  {
   "cell_type": "markdown",
   "metadata": {},
   "source": [
    "# Full Circle: Load Intake Catalogue from .YAML"
   ]
  },
  {
   "cell_type": "code",
   "execution_count": 13,
   "metadata": {},
   "outputs": [],
   "source": [
    "catalog = intake.open_catalog('works.yaml') # Constructor Error"
   ]
  },
  {
   "cell_type": "code",
   "execution_count": null,
   "metadata": {},
   "outputs": [],
   "source": [
    "catalog2 = intake.open_catalog('test.yaml') # Constructor Error"
   ]
  },
  {
   "cell_type": "code",
   "execution_count": null,
   "metadata": {},
   "outputs": [],
   "source": []
  }
 ],
 "metadata": {
  "kernelspec": {
   "display_name": "Python 3.9.6 64-bit ('xstac_test': conda)",
   "name": "python396jvsc74a57bd032373ff6b197edf053ae54d25dbb90abc8dafd244d9a029fd20ef0e7aeef20bd"
  },
  "language_info": {
   "name": "python",
   "version": ""
  },
  "orig_nbformat": 3
 },
 "nbformat": 4,
 "nbformat_minor": 2
}